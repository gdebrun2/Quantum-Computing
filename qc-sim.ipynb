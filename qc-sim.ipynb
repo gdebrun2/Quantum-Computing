{
 "cells": [
  {
   "cell_type": "markdown",
   "metadata": {},
   "source": [
    "## Helpers"
   ]
  },
  {
   "cell_type": "code",
   "execution_count": 1,
   "metadata": {
    "ExecuteTime": {
     "end_time": "2024-03-07T04:03:54.668316Z",
     "start_time": "2024-03-07T04:03:54.115459Z"
    }
   },
   "outputs": [],
   "source": [
    "# helpers\n",
    "import numpy as np\n",
    "import itertools\n",
    "import os\n",
    "import time\n",
    "import matplotlib.pyplot as plt\n",
    "\n",
    "\n",
    "def StateToArray(myState):\n",
    "\n",
    "    m = len(myState)  # Number of states\n",
    "    n = 2  # Number of columns in the state matrix\n",
    "    state_mat = np.zeros((m, n), dtype=object)\n",
    "\n",
    "    # Convert the list of state tuples to a numpy array\n",
    "    for i in range(m):\n",
    "        state_mat[i] = np.array([complex(myState[i][0]), myState[i][1]], dtype=object)\n",
    "\n",
    "    return state_mat\n",
    "\n",
    "\n",
    "def PrettyPrintBinary(myState, round=True):\n",
    "\n",
    "    state_mat = StateToArray(myState)\n",
    "    m, n = state_mat.shape\n",
    "\n",
    "    # Sort the state matrix by the binary representation\n",
    "    sort_indices = np.argsort(state_mat[:, 1])\n",
    "\n",
    "    output = \"\"\n",
    "    nchars = 0\n",
    "    for i, index in enumerate(sort_indices):\n",
    "\n",
    "        coeff = state_mat[index][0]\n",
    "        binary = state_mat[index][1]\n",
    "\n",
    "        if i != m - 1:\n",
    "            if round:\n",
    "                toAdd = str(np.round(coeff, 4)) + \"|\" + str(binary) + \"> + \"\n",
    "            else:\n",
    "                toAdd = str(coeff) + \"|\" + binary + \"> + \"\n",
    "\n",
    "        else:\n",
    "            if round:\n",
    "                toAdd = str(np.round(coeff, 4)) + \"|\" + binary + \">\"\n",
    "            else:\n",
    "                toAdd = str(coeff) + \"|\" + binary + \">\"\n",
    "        nchars += len(toAdd)\n",
    "        if nchars > 80:\n",
    "            output += \"\\n\"\n",
    "            nchars = 0\n",
    "        output += toAdd\n",
    "\n",
    "    print(output)\n",
    "\n",
    "\n",
    "def BinaryToDecimal(binary):\n",
    "\n",
    "    if type(binary) == str:\n",
    "\n",
    "        decimal = int(binary, 2)\n",
    "\n",
    "    elif type(binary) == np.ndarray or type(binary) == list:\n",
    "\n",
    "        decimal = np.zeros(len(binary), dtype=int)\n",
    "        for i in range(len(binary)):\n",
    "            decimal[i] = int(binary[i], 2)\n",
    "\n",
    "    return decimal\n",
    "\n",
    "\n",
    "def PrettyPrintInteger(myState, round=True):\n",
    "\n",
    "    state_mat = StateToArray(myState)\n",
    "    m, n = state_mat.shape\n",
    "\n",
    "    state_mat[:, 1] = [BinaryToDecimal(state_mat[i][1]) for i in range(m)]\n",
    "\n",
    "    sort_indices = np.argsort(state_mat[:, 1])\n",
    "    output = \"\"\n",
    "    nchars = 0\n",
    "    for i, index in enumerate(sort_indices):\n",
    "\n",
    "        coeff = state_mat[index][0]\n",
    "        integer = str(state_mat[index][1])\n",
    "\n",
    "        if i != m - 1:\n",
    "            if round:\n",
    "                toAdd = str(np.round(coeff, 4)) + \"|\" + integer + \"> + \"\n",
    "            else:\n",
    "                toAdd = str(coeff) + \"|\" + integer + \"> + \"\n",
    "\n",
    "        else:\n",
    "            if round:\n",
    "                toAdd = str(np.round(coeff, 4)) + \"|\" + integer + \">\"\n",
    "            else:\n",
    "                toAdd = str(coeff) + \"|\" + integer + \">\"\n",
    "\n",
    "        nchars += len(toAdd)\n",
    "        if nchars > 80:\n",
    "            output += \"\\n\"\n",
    "            nchars = 0\n",
    "        output += toAdd\n",
    "\n",
    "    print(output)\n",
    "\n",
    "\n",
    "# get all binary numbers of n bits\n",
    "def getBinaryList(nbits):\n",
    "\n",
    "    binaryList = []\n",
    "    for i in range(2**nbits):\n",
    "        binaryList.append(format(i, \"0\" + str(nbits) + \"b\"))\n",
    "\n",
    "    return binaryList\n",
    "\n",
    "\n",
    "# turn Dirac notation into a vector\n",
    "# the position in the corresponds to the in order binary number\n",
    "def DiracToVec(myState):\n",
    "\n",
    "    m = len(myState)  # Number of states\n",
    "    n = 2  # Number of columns in the state matrix\n",
    "    state_mat = np.zeros((m, n), dtype=object)\n",
    "    nbits = len(myState[0][1])\n",
    "    binaryList = getBinaryList(nbits)\n",
    "    # Convert the list of state tuples to a numpy array\n",
    "    for i in range(m):\n",
    "        state_mat[i] = np.array([complex(myState[i][0]), myState[i][1]], dtype=object)\n",
    "\n",
    "    # Add any missing states to the state matrix\n",
    "    for num in binaryList:\n",
    "        if num not in state_mat[:, 1]:\n",
    "            state_mat = np.append(state_mat, np.array([[0, num]], dtype=object), axis=0)\n",
    "\n",
    "    # Sort the state matrix by the binary representation\n",
    "    sort_indices = np.argsort(state_mat[:, 1])\n",
    "    vec = state_mat[\n",
    "        sort_indices, 0\n",
    "    ]  # Extract the state coefficients from the sorted state matrix\n",
    "\n",
    "    return vec\n",
    "\n",
    "\n",
    "def VecToDirac(myVec):\n",
    "\n",
    "    n = len(myVec)\n",
    "    nbits = int(np.log2(n))\n",
    "    binaryList = getBinaryList(nbits)\n",
    "    stateList = []\n",
    "\n",
    "    for i in range(n):\n",
    "        stateList.append((complex(myVec[i]), binaryList[i]))\n",
    "\n",
    "    stateList = AddDuplicates(stateList)\n",
    "\n",
    "    return stateList\n",
    "\n",
    "\n",
    "def testProb(myState):\n",
    "\n",
    "    if type(myState) == np.ndarray and myState.ndim == 1:\n",
    "\n",
    "        assert np.isclose(np.sum(np.abs(myState) ** 2), 1.0)\n",
    "\n",
    "    else:\n",
    "\n",
    "        assert np.isclose(np.sum(np.abs(StateToArray(myState)[:, 0]) ** 2), 1.0)\n",
    "\n",
    "\n",
    "def getDecimalList(nqubits):\n",
    "\n",
    "    return BinaryToDecimal(getBinaryList(nqubits))\n",
    "\n",
    "\n",
    "def AddDuplicates(myState):\n",
    "    state_array = StateToArray(myState)\n",
    "    coeffs = np.array(state_array[:, 0], dtype=complex)\n",
    "\n",
    "    # Remove zero coefficients\n",
    "    zero = np.isclose(coeffs, 0.0)\n",
    "    state_array = state_array[~zero]\n",
    "\n",
    "    # sum coefficients of identical states\n",
    "    state_dict = {}\n",
    "    for coeff, binary in state_array:\n",
    "        if binary in state_dict:\n",
    "            state_dict[binary] += coeff\n",
    "        else:\n",
    "            state_dict[binary] = coeff\n",
    "\n",
    "    new_state = [\n",
    "        (complex(coeff), binary)\n",
    "        for binary, coeff in state_dict.items()\n",
    "        if not np.isclose(coeff, 0.0)\n",
    "    ]\n",
    "\n",
    "    return new_state\n",
    "\n",
    "\n",
    "def ReadInputString(myInput_lines):\n",
    "    \"\"\"Reads a quantum circuit from a string or file\n",
    "\n",
    "    Parameters\n",
    "    ----------\n",
    "    myInput_lines : str or file path\n",
    "        The input string or file path\n",
    "\n",
    "    Returns\n",
    "    -------\n",
    "    tuple\n",
    "        The number of wires and the quantum circuit as a list of lists\n",
    "    \"\"\"\n",
    "\n",
    "    if os.path.isfile(myInput_lines):\n",
    "        with open(myInput_lines, \"r\") as file:\n",
    "            myInput_lines = file.read()\n",
    "\n",
    "    myInput = []\n",
    "    myInput_lines = myInput_lines.split(\"\\n\")\n",
    "    myInput_lines = [i.strip() for i in myInput_lines if i.strip() != \"\"]\n",
    "    numberOfWires = int(myInput_lines[0])\n",
    "    for idx, line in enumerate(myInput_lines[1:]):\n",
    "\n",
    "        toAdd = line.split()\n",
    "\n",
    "        if idx == 0 and \"INITSTATE\" in toAdd:\n",
    "            try:\n",
    "\n",
    "                inputState = \" \".join(toAdd[2:])\n",
    "                eval(inputState)\n",
    "                toAdd = toAdd[:2] + [inputState]\n",
    "\n",
    "            except:\n",
    "\n",
    "                pass\n",
    "\n",
    "        myInput.append(toAdd)\n",
    "\n",
    "    return (numberOfWires, myInput)\n",
    "\n",
    "\n",
    "def readState(path):\n",
    "    \"\"\"Reads a state from a file or dirac string or dirac list of tuples\n",
    "\n",
    "    Parameters\n",
    "    ----------\n",
    "    path : str, dirac notation (|101>), or list of tuples\n",
    "\n",
    "    Returns\n",
    "    -------\n",
    "    np.ndarray\n",
    "        The state in vector form\n",
    "    \"\"\"\n",
    "\n",
    "    if not os.path.isfile(path):\n",
    "\n",
    "        try:\n",
    "\n",
    "            state = DiracToVec(eval(path))\n",
    "\n",
    "        except:\n",
    "\n",
    "            basis = path.split(\"|\")[1].split(\">\")[0]\n",
    "            state = [(1.0 + 0j, basis)]\n",
    "            state = DiracToVec(state)\n",
    "\n",
    "        return state.astype(complex)\n",
    "\n",
    "    with open(path, \"r\") as file:\n",
    "        myInput_lines = file.read()\n",
    "\n",
    "    myInput_lines = myInput_lines.split(\"\\n\")\n",
    "    myInput_lines = [line for line in myInput_lines if line != \"\"]\n",
    "\n",
    "    state = []\n",
    "    for line in myInput_lines:\n",
    "        real = float(line.split()[0])\n",
    "        imag = float(line.split()[1])\n",
    "\n",
    "        state.append((complex(real, imag)))\n",
    "\n",
    "    return np.array(state, dtype=complex)\n",
    "\n",
    "\n",
    "def tensorProd(matrixList):\n",
    "    \"\"\"Compute the tensor product of a list of matrices\n",
    "\n",
    "    Parameters\n",
    "    ----------\n",
    "    matrixList : list\n",
    "        A list of matrices\n",
    "\n",
    "    Returns\n",
    "    -------\n",
    "    np.ndarray\n",
    "        The tensor product of the matrices\n",
    "    \"\"\"\n",
    "\n",
    "    loop_matrix = matrixList[0]\n",
    "\n",
    "    for matrix in matrixList[1:]:\n",
    "        loop_matrix = np.kron(loop_matrix, matrix)\n",
    "\n",
    "    return loop_matrix\n",
    "\n",
    "\n",
    "def measureState(inputState, ntrials):\n",
    "\n",
    "    nbits = len(inputState)\n",
    "    empirical_probs = np.zeros(nbits)\n",
    "    theoretical_probs = np.abs(inputState) ** 2\n",
    "    theoretical_probs = theoretical_probs.astype(float)\n",
    "    for i in range(ntrials):\n",
    "\n",
    "        trial_measurement = np.random.choice(range(nbits), p=theoretical_probs)\n",
    "        empirical_probs[trial_measurement] += 1\n",
    "\n",
    "    empirical_probs /= ntrials\n",
    "\n",
    "    return empirical_probs\n",
    "\n",
    "\n",
    "def generateRandomCircuit(nbits, depth):\n",
    "    \"\"\"Generates a random quantum circuit by applying one atomic gate to each qubit at each depth\n",
    "\n",
    "    Parameters\n",
    "    ----------\n",
    "    nbits : int\n",
    "        The number of qubits\n",
    "    depth : int\n",
    "        The depth of the circuit\n",
    "\n",
    "    Returns\n",
    "    -------\n",
    "    str\n",
    "        The circuit\n",
    "    \"\"\"\n",
    "\n",
    "    circuit = f\"{nbits}\\n\"\n",
    "    for _ in range(depth):\n",
    "        for i in range(nbits):\n",
    "            gate = np.random.choice([\"H\", \"Phase\", \"CNOT\"])\n",
    "            if gate == \"CNOT\":\n",
    "                control = i\n",
    "                target = np.random.choice([j for j in range(nbits) if j != control])\n",
    "                circuit += f\"{gate} {control} {target}\\n\"\n",
    "            else:\n",
    "                circuit += f\"{gate} {i}\\n\"\n",
    "\n",
    "    return circuit"
   ]
  },
  {
   "cell_type": "markdown",
   "metadata": {},
   "source": [
    "## Test Helpers"
   ]
  },
  {
   "cell_type": "code",
   "execution_count": 2,
   "metadata": {
    "ExecuteTime": {
     "end_time": "2024-03-07T04:03:54.678992Z",
     "start_time": "2024-03-07T04:03:54.675874Z"
    }
   },
   "outputs": [
    {
     "name": "stdout",
     "output_type": "stream",
     "text": [
      "Pretty print 3 bit:\n",
      "(0.7071+0j)|000> + (-0.6325+0j)|010> + 0.3162j|101>\n",
      "\n",
      "Pretty print 3 bit Integer:\n",
      "(0.7071+0j)|0> + (-0.6325+0j)|2> + 0.3162j|5>\n",
      "\n",
      "Dirac to Vec:\n",
      "[(0.7071067811865476+0j) 0 (-0.6324555320336759+0j) 0 0\n",
      " 0.31622776601683794j 0 0]\n",
      "\n",
      "Vec to Dirac:\n",
      "[((0.7071067811865476+0j), '000'), ((-0.6324555320336759+0j), '010'), (0.31622776601683794j, '101')]\n"
     ]
    }
   ],
   "source": [
    "myState = [\n",
    "    (np.sqrt(0.1) * 1.0j, \"101\"),  # 5\n",
    "    (np.sqrt(0.5), \"000\"),  # 0\n",
    "    (-np.sqrt(0.4), \"010\"),\n",
    "]  # 2\n",
    "\n",
    "print(\"Pretty print 3 bit:\")\n",
    "PrettyPrintBinary(myState)\n",
    "print()\n",
    "\n",
    "print(\"Pretty print 3 bit Integer:\")\n",
    "PrettyPrintInteger(myState)\n",
    "print()\n",
    "\n",
    "print(\"Dirac to Vec:\")\n",
    "print(DiracToVec(myState))\n",
    "print()\n",
    "\n",
    "print(\"Vec to Dirac:\")\n",
    "print(VecToDirac(DiracToVec(myState)))"
   ]
  },
  {
   "cell_type": "code",
   "execution_count": 3,
   "metadata": {
    "ExecuteTime": {
     "end_time": "2024-03-07T04:03:54.688187Z",
     "start_time": "2024-03-07T04:03:54.679719Z"
    }
   },
   "outputs": [],
   "source": [
    "# Test binary to decimal conversion\n",
    "\n",
    "# test with 4 bits\n",
    "assert BinaryToDecimal(\"1011\") == 11\n",
    "assert BinaryToDecimal(\"1010\") == 10\n",
    "\n",
    "# test with 3 bits\n",
    "assert BinaryToDecimal(\"111\") == 7\n",
    "assert BinaryToDecimal(\"110\") == 6\n",
    "\n",
    "# test with 2 bits\n",
    "assert BinaryToDecimal(\"11\") == 3\n",
    "assert BinaryToDecimal(\"10\") == 2\n",
    "assert BinaryToDecimal(\"01\") == 1\n",
    "assert BinaryToDecimal(\"00\") == 0"
   ]
  },
  {
   "cell_type": "markdown",
   "metadata": {},
   "source": [
    "## Simulator S"
   ]
  },
  {
   "cell_type": "code",
   "execution_count": 4,
   "metadata": {
    "ExecuteTime": {
     "end_time": "2024-03-07T04:03:55.291596Z",
     "start_time": "2024-03-07T04:03:55.283036Z"
    }
   },
   "outputs": [],
   "source": [
    "def H(wire, myState):\n",
    "\n",
    "    new_state = []\n",
    "    if type(myState) == tuple:\n",
    "\n",
    "        state = myState\n",
    "\n",
    "        coeff = state[0]\n",
    "        binary = state[1]\n",
    "        H_wire = binary[wire]\n",
    "\n",
    "        if H_wire == \"0\":\n",
    "\n",
    "            new_binary = binary[:wire] + \"1\" + binary[wire + 1 :]\n",
    "            new_state.append((coeff / np.sqrt(2), binary))\n",
    "            new_state.append((coeff / np.sqrt(2), new_binary))\n",
    "\n",
    "        elif H_wire == \"1\":\n",
    "\n",
    "            new_binary = binary[:wire] + \"0\" + binary[wire + 1 :]\n",
    "            new_state.append((-coeff / np.sqrt(2), binary))\n",
    "            new_state.append((coeff / np.sqrt(2), new_binary))\n",
    "\n",
    "        return new_state\n",
    "\n",
    "    for state in myState:\n",
    "\n",
    "        coeff = state[0]\n",
    "        binary = state[1]\n",
    "        H_wire = binary[wire]\n",
    "\n",
    "        if H_wire == \"0\":\n",
    "\n",
    "            new_binary = binary[:wire] + \"1\" + binary[wire + 1 :]\n",
    "            new_state.append((coeff / np.sqrt(2), binary))\n",
    "            new_state.append((coeff / np.sqrt(2), new_binary))\n",
    "\n",
    "        elif H_wire == \"1\":\n",
    "\n",
    "            new_binary = binary[:wire] + \"0\" + binary[wire + 1 :]\n",
    "            new_state.append((-coeff / np.sqrt(2), binary))\n",
    "            new_state.append((coeff / np.sqrt(2), new_binary))\n",
    "\n",
    "    return new_state\n",
    "\n",
    "\n",
    "def Phase(wire, theta, inputState):\n",
    "\n",
    "    new_state = []\n",
    "\n",
    "    if type(inputState) == tuple:\n",
    "\n",
    "        state = inputState\n",
    "\n",
    "        coeff = state[0]\n",
    "        binary = state[1]\n",
    "        phase_wire = binary[wire]\n",
    "\n",
    "        if phase_wire == \"1\":\n",
    "\n",
    "            new_state.append((coeff * np.exp(1.0j * theta), binary))\n",
    "        else:\n",
    "            new_state.append((coeff, binary))\n",
    "\n",
    "        return new_state\n",
    "\n",
    "    for state in inputState:\n",
    "\n",
    "        coeff = state[0]\n",
    "        binary = state[1]\n",
    "        phase_wire = binary[wire]\n",
    "\n",
    "        if phase_wire == \"1\":\n",
    "\n",
    "            new_state.append((coeff * np.exp(1.0j * theta), binary))\n",
    "        else:\n",
    "            new_state.append((coeff, binary))\n",
    "\n",
    "    return new_state\n",
    "\n",
    "\n",
    "def CNOT(controlWire, notWire, inputState):\n",
    "\n",
    "    new_state = []\n",
    "\n",
    "    if type(inputState) == tuple:\n",
    "\n",
    "        state = inputState\n",
    "\n",
    "        coeff = state[0]\n",
    "        binary = state[1]\n",
    "\n",
    "        if binary[controlWire] == \"1\":\n",
    "\n",
    "            new_binary = (\n",
    "                binary[:notWire]\n",
    "                + str(np.abs(int(binary[notWire]) - 1))\n",
    "                + binary[notWire + 1 :]\n",
    "            )\n",
    "\n",
    "        elif binary[controlWire] == \"0\":\n",
    "\n",
    "            new_binary = binary\n",
    "\n",
    "        new_state.append((coeff, new_binary))\n",
    "\n",
    "        return new_state\n",
    "\n",
    "    for state in inputState:\n",
    "\n",
    "        coeff = state[0]\n",
    "        binary = state[1]\n",
    "\n",
    "        if binary[controlWire] == \"1\":\n",
    "\n",
    "            new_binary = (\n",
    "                binary[:notWire]\n",
    "                + str(np.abs(int(binary[notWire]) - 1))\n",
    "                + binary[notWire + 1 :]\n",
    "            )\n",
    "\n",
    "        elif binary[controlWire] == \"0\":\n",
    "\n",
    "            new_binary = binary\n",
    "\n",
    "        new_state.append((coeff, new_binary))\n",
    "\n",
    "    return new_state\n",
    "\n",
    "\n",
    "def runSim(myInput_lines, ntrials=1000, measure=False, initState=None):\n",
    "    \"\"\"String based quantum circuit simulator\n",
    "\n",
    "    Parameters\n",
    "    ----------\n",
    "    myInput_lines : str or file path\n",
    "\n",
    "    ntrials : int\n",
    "        Number of trials for measurement\n",
    "\n",
    "    supressMeasurement : bool\n",
    "        If True, measurement is supressed if input file contains a MEASURE\n",
    "\n",
    "    Returns\n",
    "    -------\n",
    "    np.ndarray\n",
    "        The final state of the system\n",
    "\n",
    "    OR\n",
    "\n",
    "    np.ndarray\n",
    "        The empirical probabilities of the final state\n",
    "        Value at each index is the probability of measuring that state (vector representation)\n",
    "\n",
    "    \"\"\"\n",
    "\n",
    "    numberOfWires, myInput = ReadInputString(myInput_lines)\n",
    "\n",
    "    if \"MEASURE\" in myInput[-1]:\n",
    "        myInput = myInput[:-1]\n",
    "        measure = True\n",
    "\n",
    "    inputState = np.zeros(2**numberOfWires)\n",
    "    inputState[0] = 1.0  # start in the |0> state as default\n",
    "\n",
    "    if \"INITSTATE\" in myInput[0]:\n",
    "\n",
    "        inputState = myInput[0][-1]\n",
    "        inputState = readState(inputState)\n",
    "\n",
    "        if initState != None:\n",
    "\n",
    "            print(\n",
    "                'Initial state in input string or file. Ignoring \"initState\" argument'\n",
    "            )\n",
    "\n",
    "    elif initState != None:\n",
    "\n",
    "        inputState = readState(initState)\n",
    "\n",
    "    global_state = VecToDirac(inputState)\n",
    "    for gate in myInput:\n",
    "\n",
    "        if gate[0] == \"H\":\n",
    "            wire = int(gate[-1])\n",
    "            global_state = H(wire, global_state)\n",
    "\n",
    "        elif gate[0] == \"P\":\n",
    "            wire = int(gate[1])\n",
    "            theta = float(gate[2])\n",
    "            global_state = Phase(wire, theta, global_state)\n",
    "\n",
    "        elif gate[0] == \"CNOT\":\n",
    "            control = int(gate[1])\n",
    "            notWire = int(gate[2])\n",
    "            global_state = CNOT(control, notWire, global_state)\n",
    "\n",
    "        global_state = AddDuplicates(global_state)\n",
    "\n",
    "    if measure:\n",
    "\n",
    "        empircal_probs = measureState(DiracToVec(global_state), ntrials)\n",
    "        return global_state, empircal_probs\n",
    "\n",
    "    return global_state"
   ]
  },
  {
   "cell_type": "code",
   "execution_count": 5,
   "metadata": {
    "ExecuteTime": {
     "end_time": "2024-03-07T04:03:55.544676Z",
     "start_time": "2024-03-07T04:03:55.542172Z"
    }
   },
   "outputs": [
    {
     "name": "stdout",
     "output_type": "stream",
     "text": [
      "Before add duplicates:\n",
      "(0.5+0j)|000> + (-0.4472+0j)|000> + (0.5+0j)|010> + (0.4472+0j)|010> + \n",
      "0.2236j|101> + 0.2236j|111>\n",
      "\n",
      "After add duplicates:\n",
      "(0.0528+0j)|000> + (0.9472+0j)|010> + 0.2236j|101> + 0.2236j|111>\n"
     ]
    }
   ],
   "source": [
    "# test add duplicates\n",
    "dupState = H(1, myState)\n",
    "testProb(dupState)\n",
    "newState = AddDuplicates(dupState)\n",
    "testProb(newState)\n",
    "print(\"Before add duplicates:\")\n",
    "PrettyPrintBinary(dupState)\n",
    "print(\"\\nAfter add duplicates:\")\n",
    "PrettyPrintBinary(newState)"
   ]
  },
  {
   "cell_type": "markdown",
   "metadata": {},
   "source": [
    "## Test H, Phase, CNOT"
   ]
  },
  {
   "cell_type": "code",
   "execution_count": 6,
   "metadata": {
    "ExecuteTime": {
     "end_time": "2024-03-07T04:03:55.982790Z",
     "start_time": "2024-03-07T04:03:55.979917Z"
    }
   },
   "outputs": [
    {
     "name": "stdout",
     "output_type": "stream",
     "text": [
      "(0.7071+0j)|000> + (-0.6325+0j)|010> + 0.3162j|101>\n",
      "\n",
      "(0.5+0j)|000> + 0.2236j|001> + (-0.4472+0j)|010> + (0.5+0j)|100> + \n",
      "(-0-0.2236j)|101> + (-0.4472+0j)|110>\n"
     ]
    }
   ],
   "source": [
    "# H gate test\n",
    "myState = [\n",
    "    (np.sqrt(0.1) * 1.0j, \"101\"),  # 5\n",
    "    (np.sqrt(0.5), \"000\"),  # 0\n",
    "    (-np.sqrt(0.4), \"010\"),\n",
    "]  # 2\n",
    "\n",
    "# list of tuples\n",
    "newState1 = H(0, myState)\n",
    "testProb(newState1)  # test prob = 1\n",
    "\n",
    "# single tuple\n",
    "newState2 = list(itertools.chain(*[H(0, state) for state in myState]))\n",
    "testProb(newState2)  # test prob = 1\n",
    "\n",
    "assert newState1 == newState2  # test that both input types give same result\n",
    "\n",
    "PrettyPrintBinary(myState)\n",
    "print()\n",
    "PrettyPrintBinary(newState1)"
   ]
  },
  {
   "cell_type": "code",
   "execution_count": 7,
   "metadata": {
    "ExecuteTime": {
     "end_time": "2024-03-07T04:03:56.209355Z",
     "start_time": "2024-03-07T04:03:56.206297Z"
    }
   },
   "outputs": [
    {
     "name": "stdout",
     "output_type": "stream",
     "text": [
      "Before phase gate:\n",
      "(0.7071+0j)|000> + (-0.6325+0j)|010> + 0.3162j|101>\n",
      "\n",
      "After pi/4 on wire 0 phase gate:\n",
      "(0.7071+0j)|000> + (-0.6325+0j)|010> + (-0.2236+0.2236j)|101>\n"
     ]
    }
   ],
   "source": [
    "# Phase gate test\n",
    "\n",
    "# list of tuples\n",
    "newState1 = Phase(0, np.pi / 4, myState)\n",
    "testProb(newState1)  # test prob = 1\n",
    "\n",
    "# single tuple\n",
    "newState2 = list(itertools.chain(*[Phase(0, np.pi / 4, state) for state in myState]))\n",
    "testProb(newState2)  # test prob = 1\n",
    "\n",
    "assert newState1 == newState2  # test that both input types give same result\n",
    "\n",
    "print(\"Before phase gate:\")\n",
    "PrettyPrintBinary(myState)\n",
    "print(\"\\nAfter pi/4 on wire 0 phase gate:\")\n",
    "PrettyPrintBinary(newState1)\n",
    "\n",
    "# test phase and hadamard\n",
    "newState = H(1, myState)\n",
    "newState = Phase(0, np.pi / 2, newState)\n",
    "testProb(newState)  # test prob = 1"
   ]
  },
  {
   "cell_type": "code",
   "execution_count": 8,
   "metadata": {
    "ExecuteTime": {
     "end_time": "2024-03-07T04:03:56.423246Z",
     "start_time": "2024-03-07T04:03:56.420384Z"
    }
   },
   "outputs": [
    {
     "name": "stdout",
     "output_type": "stream",
     "text": [
      "Before CNOT:\n",
      "(0.7071+0j)|000> + (-0.6325+0j)|010> + 0.3162j|101>\n",
      "\n",
      "After control=0 not=1:\n",
      "(0.7071+0j)|000> + (-0.6325+0j)|010> + 0.3162j|111>\n"
     ]
    }
   ],
   "source": [
    "# test CNOT\n",
    "print(\"Before CNOT:\")\n",
    "PrettyPrintBinary(myState)\n",
    "newState = CNOT(0, 1, myState)\n",
    "testProb(newState)  # test prob = 1\n",
    "print(\"\\nAfter control=0 not=1:\")\n",
    "PrettyPrintBinary(newState)\n",
    "\n",
    "# list of tuples\n",
    "newState2 = list(itertools.chain(*[CNOT(0, 1, state) for state in myState]))\n",
    "assert newState == newState2\n",
    "\n",
    "# test all three\n",
    "newState = H(0, myState)\n",
    "newState = CNOT(0, 1, newState)\n",
    "newState = Phase(1, np.pi / 2, newState)\n",
    "testProb(newState)  # test prob = 1"
   ]
  },
  {
   "cell_type": "code",
   "execution_count": 9,
   "metadata": {
    "ExecuteTime": {
     "end_time": "2024-03-07T04:03:56.678694Z",
     "start_time": "2024-03-07T04:03:56.643170Z"
    }
   },
   "outputs": [
    {
     "name": "stdout",
     "output_type": "stream",
     "text": [
      "input string:\n",
      "(0.9777+0.1478j)|000> + (0.0223-0.1478j)|101>\n",
      "\n",
      "example.circuit:\n",
      "(0.5+0j)|0000> + (0.5+0j)|0011> + (0.4502+0.2175j)|1100> + \n",
      "(0.4502+0.2175j)|1111>\n",
      "\n",
      "random.circuit:\n",
      "(0.1457+0.1135j)|00000> + (0.0431-0.1218j)|00001> + (-0.0002+0.0801j)|00010> + \n",
      "(0.0504-0.0073j)|00011> + (0.0723-0.0226j)|00100> + (-0.0344-0.0422j)|00101> + (0.0539+0.009j)|00110> + \n",
      "(0.0018-0.0268j)|00111> + (0.1346-0.1256j)|01000> + (-0.1041-0.0676j)|01001> + (0.0107+0.0709j)|01010> + \n",
      "(0.0315-0.0354j)|01011> + (0.0079+0.2979j)|01100> + (0.1961-0.0584j)|01101> + (-0.1131-0.0228j)|01110> + \n",
      "(0.0257+0.0756j)|01111> + (0.0015-0.0365j)|10000> + (-0.0127+0.0055j)|10001> + (-0.0821+0.0155j)|10010> + \n",
      "(0.016+0.0226j)|10011> + (-0.1717+0.3669j)|10100> + (0.2775+0.0423j)|10101> + (-0.1469-0.0436j)|10110> + \n",
      "(0.0074+0.1079j)|10111> + (-0.4427-0.0892j)|11000> + (0.0343+0.318j)|11001> + (-0.0548-0.2147j)|11010> + \n",
      "(-0.121+0.0654j)|11011> + (-0.1814-0.078j)|11100> + (-0.0059+0.127j)|11101> + (-0.0578+0.0101j)|11110> + \n",
      "(-0.0118+0.02j)|11111>\n"
     ]
    }
   ],
   "source": [
    "# test runSim\n",
    "state = runSim(\n",
    "    \"\"\"\n",
    "3\n",
    "H 1\n",
    "H 2\n",
    "P 2 0.3\n",
    "CNOT 2 1\n",
    "H 1\n",
    "H 2\n",
    "CNOT 2 0\n",
    "\"\"\"\n",
    ")\n",
    "testProb(state)\n",
    "print(\"input string:\")\n",
    "PrettyPrintBinary(state)\n",
    "\n",
    "stateS = runSim(\"circuits/example.circuit\")\n",
    "testProb(stateS)\n",
    "print(\"\\nexample.circuit:\")\n",
    "PrettyPrintBinary(stateS)\n",
    "\n",
    "# test with random circuit\n",
    "state = runSim(\"circuits/rand.circuit\")\n",
    "testProb(state)\n",
    "print(\"\\nrandom.circuit:\")\n",
    "PrettyPrintBinary(state)"
   ]
  },
  {
   "cell_type": "markdown",
   "metadata": {},
   "source": [
    "\n",
    "## Simulator Ma"
   ]
  },
  {
   "cell_type": "markdown",
   "metadata": {},
   "source": [
    "### Array gates"
   ]
  },
  {
   "cell_type": "code",
   "execution_count": 10,
   "metadata": {
    "ExecuteTime": {
     "end_time": "2024-03-07T04:03:57.245529Z",
     "start_time": "2024-03-07T04:03:57.239902Z"
    }
   },
   "outputs": [],
   "source": [
    "def HadamardArray(i, k):\n",
    "    \"\"\"Apply a Hadamard gate to wire i of k qubits\n",
    "\n",
    "    Parameters\n",
    "    ----------\n",
    "    i : int\n",
    "        The wire to apply the Hadamard gate to\n",
    "    k : int\n",
    "        The number of qubits in the system\n",
    "\n",
    "    Returns\n",
    "    -------\n",
    "    np.ndarray\n",
    "        The Hadamard matrix\n",
    "\n",
    "    Notes\n",
    "    -----\n",
    "    The Hadamard is applied to a k qubit system by I x I x ... x H x I |state>\n",
    "    where the position of H in the tensor product corresponds to the i-th bit\n",
    "    \"\"\"\n",
    "\n",
    "    # Base Hadamard\n",
    "    H1 = (1 / np.sqrt(2)) * np.array([[1, 1], [1, -1]])\n",
    "\n",
    "    # I 2 qubit\n",
    "    I1 = np.eye(2)\n",
    "\n",
    "    matrices = []\n",
    "    for wire in range(k):\n",
    "\n",
    "        if wire == i:\n",
    "            matrices.append(H1)\n",
    "        else:\n",
    "            matrices.append(I1)\n",
    "\n",
    "    H = tensorProd(matrices)\n",
    "\n",
    "    return H\n",
    "\n",
    "\n",
    "def PhaseArray(i, theta, k):\n",
    "    \"\"\"Apply a phase gate to wire i of k qubits\n",
    "\n",
    "    Parameters\n",
    "    ----------\n",
    "    i : int\n",
    "        The wire to apply the phase gate to\n",
    "    theta : float\n",
    "        The phase angle\n",
    "    k : int\n",
    "        The number of qubits in the system\n",
    "\n",
    "    Returns\n",
    "    -------\n",
    "    np.ndarray\n",
    "        The phase matrix\n",
    "\n",
    "    Notes\n",
    "    -----\n",
    "    Same idea as the Hadamard gate, but now we apply the phase gate\n",
    "    \"\"\"\n",
    "\n",
    "    # Base phase gate\n",
    "    P1 = np.array([[1, 0], [0, np.exp(1.0j * theta)]])\n",
    "\n",
    "    # 2 qubit identity\n",
    "    I1 = np.eye(2)\n",
    "\n",
    "    matrices = []\n",
    "    for wire in range(k):\n",
    "\n",
    "        if wire == i:\n",
    "            matrices.append(P1)\n",
    "        else:\n",
    "            matrices.append(I1)\n",
    "\n",
    "    P = tensorProd(matrices)\n",
    "\n",
    "    return P\n",
    "\n",
    "\n",
    "def CNOTArray(control, notWire, k):\n",
    "    \"\"\"Apply a CNOT gate to control wire and not wire of k qubits\n",
    "\n",
    "    Parameters\n",
    "    ----------\n",
    "    control : int\n",
    "        The control wire\n",
    "    notWire : int\n",
    "        The not wire\n",
    "    k : int\n",
    "        The number of qubits in the system\n",
    "\n",
    "    Returns\n",
    "    -------\n",
    "    np.ndarray\n",
    "        The CNOT matrix\n",
    "\n",
    "    Notes\n",
    "    -----\n",
    "    We first generate a 2D mapping for the CNOT gate. Then we loop over the\n",
    "    states and apply the CNOT gate to the corresponding notWire if the control wire is 1 by changing the mapping to the state in which the notWire is flipped.\n",
    "    \"\"\"\n",
    "\n",
    "    m, n = 2**k, 2**k\n",
    "\n",
    "    cnot = np.zeros((m, n))\n",
    "\n",
    "    binaryList = getBinaryList(k)\n",
    "\n",
    "    for state in range(m):\n",
    "\n",
    "        binary = binaryList[state]\n",
    "        new_binary = binary\n",
    "\n",
    "        if binary[control] == \"1\":\n",
    "\n",
    "            new_binary = (\n",
    "                binary[:notWire] + str(1 - int(binary[notWire])) + binary[notWire + 1 :]\n",
    "            )\n",
    "\n",
    "        cnot[int(binary, 2), int(new_binary, 2)] = 1.0\n",
    "\n",
    "    return cnot\n",
    "\n",
    "\n",
    "def runSimArray(myInput_lines, ntrials=1000, measure=False, initState=None):\n",
    "\n",
    "    numberOfWires, myInput = ReadInputString(myInput_lines)\n",
    "\n",
    "    if \"MEASURE\" in myInput[-1]:\n",
    "        myInput = myInput[:-1]\n",
    "        measure = True\n",
    "\n",
    "    inputState = np.zeros(2**numberOfWires)\n",
    "    inputState[0] = 1.0  # start in the |0> state as default\n",
    "\n",
    "    if \"INITSTATE\" in myInput[0]:\n",
    "\n",
    "        inputState = myInput[0][-1]\n",
    "        inputState = readState(inputState)\n",
    "\n",
    "        if initState != None:\n",
    "\n",
    "            print(\n",
    "                'Initial state in input string or file. Ignoring \"initState\" argument'\n",
    "            )\n",
    "\n",
    "    elif initState != None:\n",
    "\n",
    "        inputState = readState(initState)\n",
    "\n",
    "    U = np.eye(2**numberOfWires, dtype=complex)\n",
    "    global_state = inputState\n",
    "    for gate in myInput:\n",
    "\n",
    "        if gate[0] == \"H\":\n",
    "            wire = int(gate[-1])\n",
    "            U = HadamardArray(wire, numberOfWires) @ U\n",
    "\n",
    "        elif gate[0] == \"P\":\n",
    "            wire = int(gate[1])\n",
    "            theta = float(gate[2])\n",
    "            U = PhaseArray(wire, theta, numberOfWires) @ U\n",
    "\n",
    "        elif gate[0] == \"CNOT\":\n",
    "            control = int(gate[1])\n",
    "            notWire = int(gate[2])\n",
    "            U = CNOTArray(control, notWire, numberOfWires) @ U\n",
    "\n",
    "    global_state = U @ global_state\n",
    "    if measure:\n",
    "\n",
    "        empircal_probs = measureState(global_state, ntrials)\n",
    "        return global_state, U, empircal_probs\n",
    "\n",
    "    return global_state, U"
   ]
  },
  {
   "cell_type": "markdown",
   "metadata": {},
   "source": [
    "## Testing Ma"
   ]
  },
  {
   "cell_type": "code",
   "execution_count": 11,
   "metadata": {
    "ExecuteTime": {
     "end_time": "2024-03-07T04:03:57.678966Z",
     "start_time": "2024-03-07T04:03:57.660006Z"
    }
   },
   "outputs": [
    {
     "name": "stdout",
     "output_type": "stream",
     "text": [
      "input string:\n",
      "(0.9777+0.1478j)|000> + (0.0223-0.1478j)|101>\n",
      "\n",
      "example.circuit:\n",
      "(0.5+0j)|0000> + (0.5+0j)|0011> + (0.4502+0.2175j)|1100> + \n",
      "(0.4502+0.2175j)|1111>\n",
      "\n",
      "random.circuit:\n",
      "(0.1457+0.1135j)|00000> + (0.0431-0.1218j)|00001> + (-0.0002+0.0801j)|00010> + \n",
      "(0.0504-0.0073j)|00011> + (0.0723-0.0226j)|00100> + (-0.0344-0.0422j)|00101> + (0.0539+0.009j)|00110> + \n",
      "(0.0018-0.0268j)|00111> + (0.1346-0.1256j)|01000> + (-0.1041-0.0676j)|01001> + (0.0107+0.0709j)|01010> + \n",
      "(0.0315-0.0354j)|01011> + (0.0079+0.2979j)|01100> + (0.1961-0.0584j)|01101> + (-0.1131-0.0228j)|01110> + \n",
      "(0.0257+0.0756j)|01111> + (0.0015-0.0365j)|10000> + (-0.0127+0.0055j)|10001> + (-0.0821+0.0155j)|10010> + \n",
      "(0.016+0.0226j)|10011> + (-0.1717+0.3669j)|10100> + (0.2775+0.0423j)|10101> + (-0.1469-0.0436j)|10110> + \n",
      "(0.0074+0.1079j)|10111> + (-0.4427-0.0892j)|11000> + (0.0343+0.318j)|11001> + (-0.0548-0.2147j)|11010> + \n",
      "(-0.121+0.0654j)|11011> + (-0.1814-0.078j)|11100> + (-0.0059+0.127j)|11101> + (-0.0578+0.0101j)|11110> + \n",
      "(-0.0118+0.02j)|11111>\n",
      "\n",
      "input.circuit:\n",
      "(0.1541-0.039j)|00000> + (0.049-0.03j)|00001> + (-0.0213+0.0877j)|00010> + \n",
      "(-0.1116-0.2333j)|00011> + (-0.0339-0.0097j)|00100> + (-0.0167-0.1303j)|00101> + \n",
      "(-0.1959+0.0099j)|00110> + (-0.098+0.0135j)|00111> + (-0.1808+0.0144j)|01000> + (0.0538-0.0686j)|01001> + \n",
      "(0.001-0.0035j)|01010> + (-0.0215+0.0174j)|01011> + (-0.0072+0.1596j)|01100> + \n",
      "(-0.2231+0.0746j)|01101> + (-0.0379+0.0059j)|01110> + (0.0739-0.0507j)|01111> + (-0.148+0.0875j)|10000> + \n",
      "(-0.0633+0.2566j)|10001> + (0.1169+0.0138j)|10010> + (-0.0267-0.0041j)|10011> + (0.2192-0.213j)|10100> + \n",
      "(-0.0489-0.1164j)|10101> + (-0.1479-0.1048j)|10110> + (0.2232+0.0508j)|10111> + (-0.1396-0.2372j)|11000> + \n",
      "(0.1848-0.0051j)|11001> + (-0.2632-0.0656j)|11010> + (0.1752-0.0201j)|11011> + (0.1122+0.0012j)|11100> + \n",
      "(0.0242-0.1245j)|11101> + (-0.2083+0.077j)|11110> + (0.0548+0.3061j)|11111>\n"
     ]
    }
   ],
   "source": [
    "# Test string input\n",
    "state, U = runSimArray(\n",
    "    \"\"\"\n",
    "3\n",
    "H 1\n",
    "H 2\n",
    "P 2 0.3\n",
    "CNOT 2 1\n",
    "H 1\n",
    "H 2\n",
    "CNOT 2 0\n",
    "\"\"\"\n",
    ")\n",
    "print(\"input string:\")\n",
    "PrettyPrintBinary(VecToDirac(myVec=state))\n",
    "testProb(state)\n",
    "print()\n",
    "\n",
    "# Test example.circuit\n",
    "file = \"circuits/example.circuit\"\n",
    "stateMa, U = runSimArray(file)\n",
    "print(\"example.circuit:\")\n",
    "PrettyPrintBinary(AddDuplicates(VecToDirac(stateMa)))\n",
    "testProb(state)\n",
    "print()\n",
    "\n",
    "# Test random.circuit\n",
    "file = \"circuits/rand.circuit\"\n",
    "state, U = runSimArray(file)\n",
    "print(\"random.circuit:\")\n",
    "PrettyPrintBinary(AddDuplicates(VecToDirac(state)))\n",
    "testProb(state)\n",
    "print()\n",
    "\n",
    "# test input.circuit\n",
    "file = \"circuits/input.circuit\"\n",
    "state, U = runSimArray(file)\n",
    "print(\"input.circuit:\")\n",
    "PrettyPrintBinary(AddDuplicates(VecToDirac(state)))\n",
    "testProb(state)"
   ]
  },
  {
   "cell_type": "code",
   "execution_count": 12,
   "metadata": {
    "ExecuteTime": {
     "end_time": "2024-03-07T04:03:59.089573Z",
     "start_time": "2024-03-07T04:03:57.875003Z"
    }
   },
   "outputs": [
    {
     "data": {
      "image/png": "[encoded data removed]",
      "text/plain": [
       "<Figure size 640x480 with 1 Axes>"
      ]
     },
     "metadata": {},
     "output_type": "display_data"
    }
   ],
   "source": [
    "file = \"circuits/input.circuit\"\n",
    "state, U, empirical_probs = runSimArray(file, measure=True, ntrials=100000)\n",
    "nbits = int(np.log2(len(state)))\n",
    "xlabels = getBinaryList(nbits)\n",
    "x = np.arange(len(xlabels))\n",
    "fig, ax = plt.subplots()\n",
    "plt.hist(x, weights=empirical_probs, bins=len(xlabels), align=\"left\")\n",
    "ax.set_xticks(x)\n",
    "ax.set_xticklabels(xlabels, rotation=90)\n",
    "ax.set_xlabel(\"State\")\n",
    "ax.set_ylabel(\"Probability\")\n",
    "ax.set_title(\"Histogram for input.circuit\")\n",
    "plt.show()"
   ]
  },
  {
   "cell_type": "markdown",
   "metadata": {},
   "source": [
    "## Simulator Mb"
   ]
  },
  {
   "cell_type": "code",
   "execution_count": 13,
   "metadata": {
    "ExecuteTime": {
     "end_time": "2024-03-07T04:03:59.094094Z",
     "start_time": "2024-03-07T04:03:59.090682Z"
    }
   },
   "outputs": [],
   "source": [
    "def runSimArrayFast(myInput_lines, ntrials=1000, measure=False, initState=None):\n",
    "\n",
    "    numberOfWires, myInput = ReadInputString(myInput_lines)\n",
    "\n",
    "    if \"MEASURE\" in myInput[-1]:\n",
    "        myInput = myInput[:-1]\n",
    "        measure = True\n",
    "\n",
    "    inputState = np.zeros(2**numberOfWires)\n",
    "    inputState[0] = 1.0  # start in the |0> state as default\n",
    "\n",
    "    if \"INITSTATE\" in myInput[0]:\n",
    "\n",
    "        inputState = myInput[0][-1]\n",
    "        inputState = readState(inputState)\n",
    "\n",
    "        if initState != None:\n",
    "\n",
    "            print(\n",
    "                'Initial state in input string or file. Ignoring \"initState\" argument'\n",
    "            )\n",
    "\n",
    "    elif initState != None:\n",
    "\n",
    "        inputState = readState(initState)\n",
    "\n",
    "    global_state = inputState\n",
    "    for gate in myInput:\n",
    "\n",
    "        if gate[0] == \"H\":\n",
    "            wire = int(gate[-1])\n",
    "            global_state = HadamardArray(wire, numberOfWires) @ global_state\n",
    "\n",
    "        elif gate[0] == \"P\":\n",
    "            wire = int(gate[1])\n",
    "            theta = float(gate[2])\n",
    "            global_state = PhaseArray(wire, theta, numberOfWires) @ global_state\n",
    "\n",
    "        elif gate[0] == \"CNOT\":\n",
    "            control = int(gate[1])\n",
    "            notWire = int(gate[2])\n",
    "            global_state = CNOTArray(control, notWire, numberOfWires) @ global_state\n",
    "\n",
    "    if measure:\n",
    "        empircal_probs = measureState(global_state, ntrials)\n",
    "        return global_state, empircal_probs\n",
    "\n",
    "    return global_state"
   ]
  },
  {
   "cell_type": "markdown",
   "metadata": {},
   "source": [
    "## Testing Mb"
   ]
  },
  {
   "cell_type": "code",
   "execution_count": 14,
   "metadata": {
    "ExecuteTime": {
     "end_time": "2024-03-07T04:03:59.105062Z",
     "start_time": "2024-03-07T04:03:59.094658Z"
    }
   },
   "outputs": [
    {
     "name": "stdout",
     "output_type": "stream",
     "text": [
      "input string:\n",
      "(0.9777+0.1478j)|000> + (0.0223-0.1478j)|101>\n",
      "\n",
      "example.circuit:\n",
      "(0.5+0j)|0000> + (0.5+0j)|0011> + (0.4502+0.2175j)|1100> + \n",
      "(0.4502+0.2175j)|1111>\n",
      "\n",
      "random.circuit:\n",
      "(0.1457+0.1135j)|00000> + (0.0431-0.1218j)|00001> + (-0.0002+0.0801j)|00010> + \n",
      "(0.0504-0.0073j)|00011> + (0.0723-0.0226j)|00100> + (-0.0344-0.0422j)|00101> + (0.0539+0.009j)|00110> + \n",
      "(0.0018-0.0268j)|00111> + (0.1346-0.1256j)|01000> + (-0.1041-0.0676j)|01001> + (0.0107+0.0709j)|01010> + \n",
      "(0.0315-0.0354j)|01011> + (0.0079+0.2979j)|01100> + (0.1961-0.0584j)|01101> + (-0.1131-0.0228j)|01110> + \n",
      "(0.0257+0.0756j)|01111> + (0.0015-0.0365j)|10000> + (-0.0127+0.0055j)|10001> + (-0.0821+0.0155j)|10010> + \n",
      "(0.016+0.0226j)|10011> + (-0.1717+0.3669j)|10100> + (0.2775+0.0423j)|10101> + (-0.1469-0.0436j)|10110> + \n",
      "(0.0074+0.1079j)|10111> + (-0.4427-0.0892j)|11000> + (0.0343+0.318j)|11001> + (-0.0548-0.2147j)|11010> + \n",
      "(-0.121+0.0654j)|11011> + (-0.1814-0.078j)|11100> + (-0.0059+0.127j)|11101> + (-0.0578+0.0101j)|11110> + \n",
      "(-0.0118+0.02j)|11111>\n"
     ]
    }
   ],
   "source": [
    "# Test string input\n",
    "state = runSimArrayFast(\n",
    "    \"\"\"\n",
    "3\n",
    "H 1\n",
    "H 2\n",
    "P 2 0.3\n",
    "CNOT 2 1\n",
    "H 1\n",
    "H 2\n",
    "CNOT 2 0\n",
    "\"\"\"\n",
    ")\n",
    "print(\"input string:\")\n",
    "PrettyPrintBinary(VecToDirac(state))\n",
    "testProb(state)\n",
    "print()\n",
    "\n",
    "# Test example.circuit\n",
    "file = \"circuits/example.circuit\"\n",
    "stateMb = runSimArrayFast(file)\n",
    "print(\"example.circuit:\")\n",
    "PrettyPrintBinary(AddDuplicates(VecToDirac(stateMb)))\n",
    "testProb(state)\n",
    "print()\n",
    "\n",
    "# Test random.circuit\n",
    "file = \"circuits/rand.circuit\"\n",
    "state = runSimArrayFast(file)\n",
    "print(\"random.circuit:\")\n",
    "PrettyPrintBinary(AddDuplicates(VecToDirac(state)))\n",
    "testProb(state)"
   ]
  },
  {
   "cell_type": "code",
   "execution_count": 15,
   "metadata": {
    "ExecuteTime": {
     "end_time": "2024-03-07T04:03:59.108735Z",
     "start_time": "2024-03-07T04:03:59.106216Z"
    }
   },
   "outputs": [
    {
     "name": "stdout",
     "output_type": "stream",
     "text": [
      "example.circuit:\n",
      "\n",
      "simulator Ma:\n",
      "(0.5+0j)|0000> + (0.5+0j)|0011> + (0.4502+0.2175j)|1100> + \n",
      "(0.4502+0.2175j)|1111>\n",
      "\n",
      "simulator Mb:\n",
      "(0.5+0j)|0000> + (0.5+0j)|0011> + (0.4502+0.2175j)|1100> + \n",
      "(0.4502+0.2175j)|1111>\n"
     ]
    }
   ],
   "source": [
    "print(\"example.circuit:\\n\")\n",
    "print(\"simulator Ma:\")\n",
    "PrettyPrintBinary(AddDuplicates(VecToDirac(stateMa)))\n",
    "\n",
    "print(\"\\nsimulator Mb:\")\n",
    "PrettyPrintBinary(AddDuplicates(VecToDirac(stateMb)))"
   ]
  },
  {
   "cell_type": "markdown",
   "metadata": {},
   "source": [
    "## Complexity"
   ]
  },
  {
   "cell_type": "code",
   "execution_count": 16,
   "metadata": {
    "ExecuteTime": {
     "end_time": "2024-03-07T04:06:05.902524Z",
     "start_time": "2024-03-07T04:03:59.109467Z"
    }
   },
   "outputs": [],
   "source": [
    "def sortfiles(file):\n",
    "\n",
    "    return int(file[4:].split(\".\")[0])\n",
    "\n",
    "\n",
    "nwires = [i for i in range(2, 14, 2)] + [20]\n",
    "sTime = []\n",
    "maTime = []\n",
    "mbTime = []\n",
    "\n",
    "\n",
    "for nbits in nwires:\n",
    "\n",
    "    randCircuit = generateRandomCircuit(nbits=nbits, depth=5)\n",
    "\n",
    "    # run sim s\n",
    "    s = time.time()\n",
    "    x = runSim(randCircuit)\n",
    "    e = time.time()\n",
    "    sTime.append(e - s)\n",
    "    del x\n",
    "\n",
    "    if nbits <= 12:\n",
    "\n",
    "        # run sim ma\n",
    "        s = time.time()\n",
    "        x = runSimArray(randCircuit)\n",
    "        e = time.time()\n",
    "        maTime.append(e - s)\n",
    "        del x\n",
    "\n",
    "        # run sim mb\n",
    "        s = time.time()\n",
    "        x = runSimArrayFast(randCircuit)\n",
    "        e = time.time()\n",
    "        mbTime.append(e - s)\n",
    "\n",
    "        del x"
   ]
  },
  {
   "cell_type": "code",
   "execution_count": 17,
   "metadata": {
    "ExecuteTime": {
     "end_time": "2024-03-07T04:06:05.988726Z",
     "start_time": "2024-03-07T04:06:05.903549Z"
    }
   },
   "outputs": [
    {
     "data": {
      "image/png": "[encoded data removed]",
      "text/plain": [
       "<Figure size 1000x600 with 1 Axes>"
      ]
     },
     "metadata": {},
     "output_type": "display_data"
    }
   ],
   "source": [
    "fig, ax = plt.subplots()\n",
    "fig.set_size_inches(10, 6)\n",
    "ax.plot(nwires, sTime, label=\"S\", marker=\"o\")\n",
    "ax.plot(nwires[:-1], maTime, label=\"Ma\", marker=\"o\")\n",
    "ax.plot(nwires[:-1], mbTime, label=\"Mb\", marker=\"o\")\n",
    "ax.set_xlabel(\"Number of Qubits\")\n",
    "ax.set_ylabel(\"Time (s)\")\n",
    "ax.legend()\n",
    "ax.set_xticks([i for i in range(2, 22, 2)])\n",
    "plt.show()"
   ]
  },
  {
   "cell_type": "markdown",
   "metadata": {},
   "source": [
    "## Testing Measure"
   ]
  },
  {
   "cell_type": "code",
   "execution_count": 18,
   "metadata": {
    "ExecuteTime": {
     "end_time": "2024-03-07T04:06:06.033263Z",
     "start_time": "2024-03-07T04:06:05.989530Z"
    }
   },
   "outputs": [
    {
     "name": "stdout",
     "output_type": "stream",
     "text": [
      "Mean difference between theoretical and empirical probabilities for sim s:\n",
      "\n",
      "\t -1.3114441715748881e-16\n"
     ]
    }
   ],
   "source": [
    "# sim s theoretical prob vs empirical prob\n",
    "state, empirical = runSim(\"circuits/measure.circuit\")\n",
    "theoretical = np.abs(DiracToVec(state)) ** 2\n",
    "\n",
    "print(\"Mean difference between theoretical and empirical probabilities for sim s:\")\n",
    "print(\"\\n\\t\", np.mean(theoretical - empirical))"
   ]
  },
  {
   "cell_type": "code",
   "execution_count": 19,
   "metadata": {
    "ExecuteTime": {
     "end_time": "2024-03-07T04:06:06.051974Z",
     "start_time": "2024-03-07T04:06:06.034034Z"
    }
   },
   "outputs": [
    {
     "name": "stdout",
     "output_type": "stream",
     "text": [
      "Mean difference between theoretical and empirical probabilities for sim ma:\n",
      "\n",
      "\t -1.6547635657560011e-16\n"
     ]
    }
   ],
   "source": [
    "# sim ma theoretical prob vs empirical prob\n",
    "state, U, empirical = runSimArray(\"circuits/measure.circuit\")\n",
    "theoretical = np.abs(state) ** 2\n",
    "\n",
    "print(\"Mean difference between theoretical and empirical probabilities for sim ma:\")\n",
    "print(\"\\n\\t\", np.mean(theoretical - empirical))"
   ]
  },
  {
   "cell_type": "code",
   "execution_count": 20,
   "metadata": {
    "ExecuteTime": {
     "end_time": "2024-03-07T04:06:06.070382Z",
     "start_time": "2024-03-07T04:06:06.052704Z"
    }
   },
   "outputs": [
    {
     "name": "stdout",
     "output_type": "stream",
     "text": [
      "Mean difference between theoretical and empirical probabilities for sim mb:\n",
      "\n",
      "\t -1.4674676404591303e-16\n"
     ]
    }
   ],
   "source": [
    "# sim mb theoretical prob\n",
    "state, empirical = runSimArrayFast(\"circuits/measure.circuit\")\n",
    "theoretical = np.abs(state) ** 2\n",
    "\n",
    "print(\"Mean difference between theoretical and empirical probabilities for sim mb:\")\n",
    "print(\"\\n\\t\", np.mean(theoretical - empirical))"
   ]
  },
  {
   "cell_type": "markdown",
   "metadata": {},
   "source": [
    "## Testing Input"
   ]
  },
  {
   "cell_type": "code",
   "execution_count": 21,
   "metadata": {
    "ExecuteTime": {
     "end_time": "2024-03-07T04:06:06.150812Z",
     "start_time": "2024-03-07T04:06:06.072204Z"
    }
   },
   "outputs": [
    {
     "name": "stdout",
     "output_type": "stream",
     "text": [
      "(0.1541-0.039j)|00000> + (0.049-0.03j)|00001> + (-0.0213+0.0877j)|00010> + \n",
      "(-0.1116-0.2333j)|00011> + (-0.0339-0.0097j)|00100> + (-0.0167-0.1303j)|00101> + \n",
      "(-0.1959+0.0099j)|00110> + (-0.098+0.0135j)|00111> + (-0.1808+0.0144j)|01000> + (0.0538-0.0686j)|01001> + \n",
      "(0.001-0.0035j)|01010> + (-0.0215+0.0174j)|01011> + (-0.0072+0.1596j)|01100> + \n",
      "(-0.2231+0.0746j)|01101> + (-0.0379+0.0059j)|01110> + (0.0739-0.0507j)|01111> + (-0.148+0.0875j)|10000> + \n",
      "(-0.0633+0.2566j)|10001> + (0.1169+0.0138j)|10010> + (-0.0267-0.0041j)|10011> + (0.2192-0.213j)|10100> + \n",
      "(-0.0489-0.1164j)|10101> + (-0.1479-0.1048j)|10110> + (0.2232+0.0508j)|10111> + (-0.1396-0.2372j)|11000> + \n",
      "(0.1848-0.0051j)|11001> + (-0.2632-0.0656j)|11010> + (0.1752-0.0201j)|11011> + (0.1122+0.0012j)|11100> + \n",
      "(0.0242-0.1245j)|11101> + (-0.2083+0.077j)|11110> + (0.0548+0.3061j)|11111>\n",
      "\n",
      "(-0.092+0.0788j)|00000> + (-0.1578-0.0924j)|00001> + (-0.0576+0.0022j)|00010> + \n",
      "(-0.0154-0.08j)|00011> + (0.0004+0.0497j)|00100> + (-0.0685+0.03j)|00101> + (-0.0053+0.0498j)|00110> + \n",
      "(-0.0596+0.0021j)|00111> + (0.0765+0.0973j)|01000> + (-0.1129+0.1454j)|01001> + (-0.0613-0.0221j)|01010> + \n",
      "(-0.0135-0.0748j)|01011> + (-0.1956-0.017j)|01100> + (-0.053-0.2915j)|01101> + (0.0512-0.0718j)|01110> + \n",
      "(0.1162+0.0155j)|01111> + (0.0392+0.0065j)|10000> + (0.0041+0.0418j)|10001> + (-0.0087-0.095j)|10010> + \n",
      "(0.0926-0.0321j)|10011> + (-0.2212-0.1468j)|10100> + (0.116-0.3848j)|10101> + (0.0521-0.087j)|10110> + \n",
      "(0.1496+0.0255j)|10111> + (0.1083-0.2684j)|11000> + (0.4442+0.0276j)|11001> + (0.162-0.0291j)|11010> + \n",
      "(0.0909+0.2084j)|11011> + (0.084-0.1191j)|11100> + (0.1936+0.0558j)|11101> + (-0.0361-0.0671j)|11110> + \n",
      "(0.0634-0.0329j)|11111>\n"
     ]
    }
   ],
   "source": [
    "# Test sim S with file instantiation\n",
    "\n",
    "state = runSim(myInput_lines=\"circuits/input.circuit\")\n",
    "PrettyPrintBinary(state)\n",
    "\n",
    "print()\n",
    "\n",
    "# Test sim S with dirac instantiation |00001>\n",
    "state = runSim(\"circuits/inputDirac.circuit\", initState=\"|00001>\")\n",
    "PrettyPrintBinary(state)"
   ]
  },
  {
   "cell_type": "code",
   "execution_count": 22,
   "metadata": {
    "ExecuteTime": {
     "end_time": "2024-03-07T04:06:06.165471Z",
     "start_time": "2024-03-07T04:06:06.151403Z"
    }
   },
   "outputs": [
    {
     "name": "stdout",
     "output_type": "stream",
     "text": [
      "(0.1541-0.039j)|00000> + (0.049-0.03j)|00001> + (-0.0213+0.0877j)|00010> + \n",
      "(-0.1116-0.2333j)|00011> + (-0.0339-0.0097j)|00100> + (-0.0167-0.1303j)|00101> + \n",
      "(-0.1959+0.0099j)|00110> + (-0.098+0.0135j)|00111> + (-0.1808+0.0144j)|01000> + (0.0538-0.0686j)|01001> + \n",
      "(0.001-0.0035j)|01010> + (-0.0215+0.0174j)|01011> + (-0.0072+0.1596j)|01100> + \n",
      "(-0.2231+0.0746j)|01101> + (-0.0379+0.0059j)|01110> + (0.0739-0.0507j)|01111> + (-0.148+0.0875j)|10000> + \n",
      "(-0.0633+0.2566j)|10001> + (0.1169+0.0138j)|10010> + (-0.0267-0.0041j)|10011> + (0.2192-0.213j)|10100> + \n",
      "(-0.0489-0.1164j)|10101> + (-0.1479-0.1048j)|10110> + (0.2232+0.0508j)|10111> + (-0.1396-0.2372j)|11000> + \n",
      "(0.1848-0.0051j)|11001> + (-0.2632-0.0656j)|11010> + (0.1752-0.0201j)|11011> + (0.1122+0.0012j)|11100> + \n",
      "(0.0242-0.1245j)|11101> + (-0.2083+0.077j)|11110> + (0.0548+0.3061j)|11111>\n",
      "\n",
      "(-0.092+0.0788j)|00000> + (-0.1578-0.0924j)|00001> + (-0.0576+0.0022j)|00010> + \n",
      "(-0.0154-0.08j)|00011> + (0.0004+0.0497j)|00100> + (-0.0685+0.03j)|00101> + (-0.0053+0.0498j)|00110> + \n",
      "(-0.0596+0.0021j)|00111> + (0.0765+0.0973j)|01000> + (-0.1129+0.1454j)|01001> + (-0.0613-0.0221j)|01010> + \n",
      "(-0.0135-0.0748j)|01011> + (-0.1956-0.017j)|01100> + (-0.053-0.2915j)|01101> + (0.0512-0.0718j)|01110> + \n",
      "(0.1162+0.0155j)|01111> + (0.0392+0.0065j)|10000> + (0.0041+0.0418j)|10001> + (-0.0087-0.095j)|10010> + \n",
      "(0.0926-0.0321j)|10011> + (-0.2212-0.1468j)|10100> + (0.116-0.3848j)|10101> + (0.0521-0.087j)|10110> + \n",
      "(0.1496+0.0255j)|10111> + (0.1083-0.2684j)|11000> + (0.4442+0.0276j)|11001> + (0.162-0.0291j)|11010> + \n",
      "(0.0909+0.2084j)|11011> + (0.084-0.1191j)|11100> + (0.1936+0.0558j)|11101> + (-0.0361-0.0671j)|11110> + \n",
      "(0.0634-0.0329j)|11111>\n"
     ]
    }
   ],
   "source": [
    "# Test sim ma with file instantiation\n",
    "state, U = runSimArray(\"circuits/input.circuit\")\n",
    "PrettyPrintBinary(VecToDirac(state))\n",
    "\n",
    "print()\n",
    "\n",
    "# Test sim mb with dirac instantiation |00001>\n",
    "state = runSimArrayFast(\"circuits/inputDirac.circuit\", initState=\"|00001>\")\n",
    "PrettyPrintBinary(VecToDirac(state))"
   ]
  },
  {
   "cell_type": "code",
   "execution_count": 23,
   "metadata": {
    "ExecuteTime": {
     "end_time": "2024-03-07T04:06:06.178949Z",
     "start_time": "2024-03-07T04:06:06.166077Z"
    }
   },
   "outputs": [
    {
     "name": "stdout",
     "output_type": "stream",
     "text": [
      "(0.1541-0.039j)|00000> + (0.049-0.03j)|00001> + (-0.0213+0.0877j)|00010> + \n",
      "(-0.1116-0.2333j)|00011> + (-0.0339-0.0097j)|00100> + (-0.0167-0.1303j)|00101> + \n",
      "(-0.1959+0.0099j)|00110> + (-0.098+0.0135j)|00111> + (-0.1808+0.0144j)|01000> + (0.0538-0.0686j)|01001> + \n",
      "(0.001-0.0035j)|01010> + (-0.0215+0.0174j)|01011> + (-0.0072+0.1596j)|01100> + \n",
      "(-0.2231+0.0746j)|01101> + (-0.0379+0.0059j)|01110> + (0.0739-0.0507j)|01111> + (-0.148+0.0875j)|10000> + \n",
      "(-0.0633+0.2566j)|10001> + (0.1169+0.0138j)|10010> + (-0.0267-0.0041j)|10011> + (0.2192-0.213j)|10100> + \n",
      "(-0.0489-0.1164j)|10101> + (-0.1479-0.1048j)|10110> + (0.2232+0.0508j)|10111> + (-0.1396-0.2372j)|11000> + \n",
      "(0.1848-0.0051j)|11001> + (-0.2632-0.0656j)|11010> + (0.1752-0.0201j)|11011> + (0.1122+0.0012j)|11100> + \n",
      "(0.0242-0.1245j)|11101> + (-0.2083+0.077j)|11110> + (0.0548+0.3061j)|11111>\n",
      "\n",
      "(0.1457+0.1135j)|00000> + (0.0431-0.1218j)|00001> + (-0.0002+0.0801j)|00010> + \n",
      "(0.0504-0.0073j)|00011> + (0.0723-0.0226j)|00100> + (-0.0344-0.0422j)|00101> + (0.0539+0.009j)|00110> + \n",
      "(0.0018-0.0268j)|00111> + (0.1346-0.1256j)|01000> + (-0.1041-0.0676j)|01001> + (0.0107+0.0709j)|01010> + \n",
      "(0.0315-0.0354j)|01011> + (0.0079+0.2979j)|01100> + (0.1961-0.0584j)|01101> + (-0.1131-0.0228j)|01110> + \n",
      "(0.0257+0.0756j)|01111> + (0.0015-0.0365j)|10000> + (-0.0127+0.0055j)|10001> + (-0.0821+0.0155j)|10010> + \n",
      "(0.016+0.0226j)|10011> + (-0.1717+0.3669j)|10100> + (0.2775+0.0423j)|10101> + (-0.1469-0.0436j)|10110> + \n",
      "(0.0074+0.1079j)|10111> + (-0.4427-0.0892j)|11000> + (0.0343+0.318j)|11001> + (-0.0548-0.2147j)|11010> + \n",
      "(-0.121+0.0654j)|11011> + (-0.1814-0.078j)|11100> + (-0.0059+0.127j)|11101> + (-0.0578+0.0101j)|11110> + \n",
      "(-0.0118+0.02j)|11111>\n"
     ]
    }
   ],
   "source": [
    "# Test sim mb with file instantiation\n",
    "state = runSimArrayFast(\"circuits/input.circuit\")\n",
    "PrettyPrintBinary(VecToDirac(state))\n",
    "\n",
    "print()\n",
    "\n",
    "# Test sim S with file instantiation |00001>\n",
    "state = runSimArrayFast(\"circuits/inputDirac.circuit\")\n",
    "PrettyPrintBinary(VecToDirac(state))"
   ]
  },
  {
   "cell_type": "markdown",
   "metadata": {},
   "source": [
    "## Non-atomic Gates"
   ]
  },
  {
   "cell_type": "code",
   "execution_count": 24,
   "metadata": {
    "ExecuteTime": {
     "end_time": "2024-03-07T04:06:06.187516Z",
     "start_time": "2024-03-07T04:06:06.179617Z"
    }
   },
   "outputs": [],
   "source": [
    "def notGate(i):\n",
    "    \"\"\"First hadamard creates a superposition of |0> and |1>, then the phase gate flips the sign on |1>. The second hadamard converts back to the computational basis:\n",
    "\n",
    "    H i\n",
    "    P i pi\n",
    "    H i\n",
    "    \"\"\"\n",
    "    H1 = f\"H {i} \\n\"\n",
    "    rotate = f\"P {i} {np.pi}\\n\"\n",
    "    H2 = f\"H {i} \\n\"\n",
    "\n",
    "    return H1 + rotate + H2\n",
    "\n",
    "\n",
    "def Rz(i, theta):\n",
    "    \"\"\"The first phase gate rotates |1> by theta/2, the not gate changes the |0> to |1>, the second phase gate rotates the new |1> by -theta/2, and the second not gate changes the |1> back to |0>:\n",
    "\n",
    "    P i theta/2\n",
    "\n",
    "    NOT i\n",
    "\n",
    "    P i -theta/2\n",
    "\n",
    "    NOT i\n",
    "\n",
    "    Notes\n",
    "    -----\n",
    "    We must do it this way because only relative changes in phase between |0> and |1> are physically meaningful. If we only rotated |1> by theta, we would not be able to distinguish between the state |0> and the state e^(i*theta)|0> = |0>.\n",
    "    \"\"\"\n",
    "    P1 = f\"P {i} {theta / 2}\\n\"\n",
    "    not1 = notGate(i)\n",
    "    P2 = f\"P {i} {-theta / 2}\\n\"\n",
    "    not2 = notGate(i)\n",
    "\n",
    "    return P1 + not1 + P2 + not2\n",
    "\n",
    "\n",
    "def CRz(control, notWire, theta):\n",
    "    \"\"\"P notWire theta/2\n",
    "    CNOT control notWire\n",
    "    P notWire -theta/2\n",
    "    CNOT control notWire\n",
    "    \"\"\"\n",
    "\n",
    "    P1 = f\"P {notWire} {theta / 2}\\n\"\n",
    "    CNOT = f\"CNOT {control} {notWire}\\n\"\n",
    "    P2 = f\"P {notWire} {-theta / 2}\\n\"\n",
    "    CNOT2 = f\"CNOT {control} {notWire}\\n\"\n",
    "\n",
    "    return P1 + CNOT + P2 + CNOT2\n",
    "\n",
    "\n",
    "def CRz(control, notWire, theta):\n",
    "    \"\"\" \"\"\"\n",
    "    Rz1 = Rz(notWire, theta / 2)\n",
    "    CNOT1 = f\"CNOT {control} {notWire}\\n\"\n",
    "    Rz2 = Rz(notWire, -theta / 2)\n",
    "    CNOT2 = f\"CNOT {control} {notWire}\\n\"\n",
    "\n",
    "    return Rz1 + CNOT1 + Rz2 + CNOT2\n",
    "\n",
    "\n",
    "def CP(control, notWire, theta):\n",
    "    \"\"\"\n",
    "    P control theta/2\n",
    "    CRz control notWire theta\n",
    "    \"\"\"\n",
    "\n",
    "    P1 = f\"P {control} {theta / 2}\\n\"\n",
    "    CRz1 = CRz(control, notWire, theta)\n",
    "\n",
    "    return P1 + CRz1\n",
    "\n",
    "\n",
    "def CP(control, notWire, theta):\n",
    "    \"\"\" \"\"\"\n",
    "\n",
    "    P1 = f\"P {control} {theta / 2}\\n\"\n",
    "    CNOT1 = f\"CNOT {control} {notWire}\\n\"\n",
    "    P2 = f\"P {notWire} {-theta / 2}\\n\"\n",
    "    CNOT2 = f\"CNOT {control} {notWire}\\n\"\n",
    "    P3 = f\"P {notWire} {theta / 2}\\n\"\n",
    "\n",
    "    return P1 + CNOT1 + P2 + CNOT2 + P3\n",
    "\n",
    "\n",
    "def SWAP(n, m):\n",
    "    \"\"\"\n",
    "    CNOT n m\n",
    "    CNOT m n\n",
    "    CNOT n m\n",
    "    \"\"\"\n",
    "    CNOT1 = f\"CNOT {n} {m}\\n\"\n",
    "    CNOT2 = f\"CNOT {m} {n}\\n\"\n",
    "    CNOT3 = f\"CNOT {n} {m}\\n\"\n",
    "\n",
    "    return CNOT1 + CNOT2 + CNOT3\n",
    "\n",
    "\n",
    "def precompile(input):\n",
    "\n",
    "    numberOfWires, myInput = ReadInputString(input)\n",
    "\n",
    "    if os.path.isfile(input):\n",
    "\n",
    "        with open(input + \".compiled\", \"w\") as output:\n",
    "\n",
    "            output.write(str(numberOfWires) + \"\\n\")\n",
    "\n",
    "            for line in myInput:\n",
    "\n",
    "                gate = line\n",
    "\n",
    "                if \"INITSTATE\" in line[0]:\n",
    "\n",
    "                    output.write(line)\n",
    "\n",
    "                elif gate[0] == \"NOT\":\n",
    "\n",
    "                    output.write(notGate(int(gate[1])))\n",
    "\n",
    "                elif gate[0] == \"Rz\":\n",
    "\n",
    "                    output.write(Rz(int(gate[1]), float(gate[2])))\n",
    "\n",
    "                elif gate[0] == \"CRz\":\n",
    "\n",
    "                    output.write(CRz(int(gate[1]), int(gate[2]), float(gate[3])))\n",
    "\n",
    "                elif gate[0] == \"CPHASE\":\n",
    "                    output.write(CP(int(gate[1]), int(gate[2]), float(gate[3])))\n",
    "\n",
    "                elif gate[0] == \"SWAP\":\n",
    "                    output.write(SWAP(int(gate[1]), int(gate[2])))\n",
    "\n",
    "                else:\n",
    "\n",
    "                    output.write(\" \".join(gate) + \"\\n\")\n",
    "\n",
    "        return ReadInputString(input + \".compiled\")\n",
    "\n",
    "    # if I don't want to write to a file, return compiled string\n",
    "    else:\n",
    "\n",
    "        output = \"\"\n",
    "        output += str(numberOfWires) + \"\\n\"\n",
    "\n",
    "        for line in myInput:\n",
    "\n",
    "            if line == \"\":\n",
    "\n",
    "                continue\n",
    "\n",
    "            gate = line\n",
    "\n",
    "            if \"INITSTATE\" in line[0]:\n",
    "\n",
    "                output += \" \".join(line) + \"\\n\"\n",
    "\n",
    "            elif gate[0] == \"NOT\":\n",
    "\n",
    "                output += notGate(int(gate[1]))\n",
    "\n",
    "            elif gate[0] == \"Rz\":\n",
    "\n",
    "                output += Rz(int(gate[1]), float(gate[2]))\n",
    "\n",
    "            elif gate[0] == \"CRz\":\n",
    "\n",
    "                output += CRz(int(gate[1]), int(gate[2]), float(gate[3]))\n",
    "\n",
    "            elif gate[0] == \"CPHASE\":\n",
    "                output += CP(int(gate[1]), int(gate[2]), float(gate[3]))\n",
    "\n",
    "            elif gate[0] == \"SWAP\":\n",
    "                output += SWAP(int(gate[1]), int(gate[2]))\n",
    "\n",
    "            else:\n",
    "\n",
    "                output += \" \".join(gate) + \"\\n\"\n",
    "\n",
    "        return output"
   ]
  },
  {
   "cell_type": "markdown",
   "metadata": {},
   "source": [
    "## Testing Non-atomic Gates and Precompiler"
   ]
  },
  {
   "cell_type": "code",
   "execution_count": 25,
   "metadata": {
    "ExecuteTime": {
     "end_time": "2024-03-07T04:06:06.191233Z",
     "start_time": "2024-03-07T04:06:06.188247Z"
    }
   },
   "outputs": [
    {
     "name": "stdout",
     "output_type": "stream",
     "text": [
      "(0.7071+0j)|000000000> + (0.7071+0j)|100000000>\n"
     ]
    }
   ],
   "source": [
    "circ = \"\"\"\n",
    "9\n",
    "H 0\n",
    "CPHASE 0 5 0.3\n",
    "P 1 0.3\n",
    "CNOT 4 7\n",
    "SWAP 2 8\n",
    "\"\"\"\n",
    "circ = precompile(circ)\n",
    "PrettyPrintBinary(runSim(circ))"
   ]
  },
  {
   "cell_type": "markdown",
   "metadata": {},
   "source": [
    "## Phase Estimation"
   ]
  },
  {
   "cell_type": "code",
   "execution_count": 26,
   "metadata": {
    "ExecuteTime": {
     "end_time": "2024-03-07T04:06:06.199428Z",
     "start_time": "2024-03-07T04:06:06.191840Z"
    }
   },
   "outputs": [],
   "source": [
    "def phaseEst(circ, ntrials=1000):\n",
    "    \"\"\"Perform phase estimation on a circuit at a single phi\n",
    "\n",
    "    Parameters\n",
    "    ----------\n",
    "    circ : str\n",
    "        The circuit to perform phase estimation on\n",
    "    ntrials : int\n",
    "        The number of measurement trials\n",
    "\n",
    "    Returns\n",
    "    -------\n",
    "    float\n",
    "        The estimated phase theta_j\n",
    "\n",
    "    np.ndarray\n",
    "        The probabilities of measuring each state\n",
    "    \"\"\"\n",
    "\n",
    "    circ = precompile(circ)\n",
    "    _, probs0 = runSim(circ, ntrials=ntrials, measure=True)\n",
    "    argmax = np.argmax(probs0)  # get the index of the max probability\n",
    "    probs = np.zeros(len(probs0))\n",
    "    probs[argmax] = 1.0\n",
    "    state = AddDuplicates(VecToDirac(probs))\n",
    "    binary = state[0][1][:-1]  # extract top wire states\n",
    "    nqubits = len(binary)\n",
    "    theta = int(binary, 2) / 2**nqubits\n",
    "\n",
    "    return theta, probs0\n",
    "\n",
    "\n",
    "def topWireDecimalStates(probs, nbottom):\n",
    "    \"\"\"Extract the decimal states of the top wires\n",
    "\n",
    "    Parameters\n",
    "    ----------\n",
    "    probs : np.ndarray\n",
    "        The probabilities of measuring each binary state\n",
    "    ntop : int\n",
    "        The number of top wires\n",
    "\n",
    "    Returns\n",
    "    -------\n",
    "    np.ndarray\n",
    "        The decimal states of the top wires\n",
    "    \"\"\"\n",
    "\n",
    "    binaryStates = StateToArray(AddDuplicates(VecToDirac(probs)))[\n",
    "        :, 1\n",
    "    ]  # extract the binary states\n",
    "    binaryStates = [\n",
    "        state[:-nbottom] for state in binaryStates\n",
    "    ]  # remove the bottom wire bits\n",
    "    nbits = len(binaryStates[0])\n",
    "    decimalStates = BinaryToDecimal(binaryStates) / (2**nbits)\n",
    "\n",
    "    return decimalStates\n",
    "\n",
    "\n",
    "def thetaHist(decimalStates, probs, phi=None):\n",
    "    \"\"\"Plot a histogram of the phase estimates in decimal\n",
    "\n",
    "    Parameters\n",
    "    ----------\n",
    "    decimalStates : np.ndarray\n",
    "        The decimal states of the top wires\n",
    "    probs : np.ndarray\n",
    "        The probabilities of measuring each binary state\n",
    "    phi : float\n",
    "        The true phase to plot\n",
    "\n",
    "    Returns\n",
    "    -------\n",
    "    None\n",
    "    \"\"\"\n",
    "\n",
    "    nbits = int(np.log2(len(decimalStates)))\n",
    "    binWidth = 1 / (2**nbits)\n",
    "\n",
    "    plt.bar(decimalStates, probs[probs != 0], width=binWidth)\n",
    "    plt.xlabel(r\"$\\theta_{j}$\", fontsize=16)\n",
    "    plt.ylabel(\"Probability\", fontsize=16)\n",
    "    if phi != None:\n",
    "        plt.vlines(phi / np.pi / 2, 0, np.max(probs), color=\"black\", linestyle=\"--\")\n",
    "\n",
    "    plt.show()\n",
    "\n",
    "\n",
    "def plotTheta(phis, thetas):\n",
    "    \"\"\"Plot the phase estimates vs the true phase\n",
    "\n",
    "    Parameters\n",
    "    ----------\n",
    "    phis : np.ndarray\n",
    "        The true phases\n",
    "    thetas : np.ndarray\n",
    "        The estimated phases\n",
    "\n",
    "    Returns\n",
    "    -------\n",
    "    None\n",
    "    \"\"\"\n",
    "\n",
    "    plt.plot(phis / (2 * np.pi), thetas)\n",
    "    plt.xlabel(r\"$\\frac{\\phi}{2\\pi}$\", fontsize=16)\n",
    "    plt.ylabel(r\"$\\theta_{j}$\", fontsize=16)\n",
    "    plt.show()\n",
    "\n",
    "\n",
    "def reverse(nbits):\n",
    "    \"\"\"Reverse the order of qubits in a circuit using SWAP gates\n",
    "\n",
    "    Parameters\n",
    "    ----------\n",
    "    nbits : int\n",
    "        The number of qubits\n",
    "\n",
    "    Returns\n",
    "    -------\n",
    "    str\n",
    "        The circuit string that reverses the order\n",
    "\n",
    "    \"\"\"\n",
    "\n",
    "    output = \"\"\n",
    "    for i in range(nbits // 2):\n",
    "\n",
    "        output += f\"SWAP {i} {nbits - 1 - i}\\n\"\n",
    "\n",
    "    return output\n",
    "\n",
    "\n",
    "def QFT(nbits, initState=None):\n",
    "    \"\"\"Quantum Fourier Transform\n",
    "\n",
    "    Parameters\n",
    "    ----------\n",
    "    nbits : int\n",
    "        The number of qubits\n",
    "    initState : str, file path, dirac string, or list of tuples\n",
    "        The initial state of the qubits\n",
    "\n",
    "    Returns\n",
    "    -------\n",
    "    str\n",
    "        The circuit string\n",
    "    str\n",
    "        The compiled circuit\n",
    "    \"\"\"\n",
    "\n",
    "    output = \"\"\n",
    "    output += str(nbits) + \"\\n\"\n",
    "\n",
    "    if initState != None:\n",
    "\n",
    "        output += f\"INITSTATE FILE {initState}\\n\"\n",
    "\n",
    "    for control in range(nbits - 1, -1, -1):\n",
    "\n",
    "        output += f\"H {control}\\n\"\n",
    "\n",
    "        for notWire in range(control - 1, -1, -1):\n",
    "\n",
    "            theta = np.pi / (2 ** (control - notWire))\n",
    "            output += f\"CPHASE {control} {notWire} {theta}\\n\"\n",
    "\n",
    "    output += reverse(nbits)\n",
    "\n",
    "    return output, precompile(output)\n",
    "\n",
    "\n",
    "def invQFT(nbits):\n",
    "\n",
    "    output = f\"{nbits}\\n\"\n",
    "    # undo the swaps\n",
    "    output += reverse(nbits)\n",
    "\n",
    "    for control in range(nbits - 1, -1, -1):\n",
    "        output += f\"H {control}\\n\"\n",
    "        for notWire in range(control):\n",
    "\n",
    "            theta = -np.pi / (2 ** (control - notWire))\n",
    "            output += f\"CPHASE {control} {notWire} {theta}\\n\"\n",
    "\n",
    "    compiled = precompile(output)\n",
    "    compiled = compiled[1:].strip()\n",
    "    output = output[1:].strip() + \"\\n\"\n",
    "\n",
    "    return output, compiled\n",
    "\n",
    "\n",
    "def buildPhaseEstCirc(ntop, nbottom, phase, initState=None):\n",
    "    \"\"\"Builds a circuit with ntop wires and nbottom wires to estimate the phase of the bottom qubits.\n",
    "\n",
    "    Parameters\n",
    "    ----------\n",
    "    ntop : int\n",
    "        The number of wires on top\n",
    "\n",
    "    nbottom : int\n",
    "        The number of wires on bottom\n",
    "\n",
    "    phase : float\n",
    "        The true phase of the bottom wires to estimate\n",
    "\n",
    "    initState : file path, dirac string, or list of tuples, optional\n",
    "        The initial state of the circuit\n",
    "\n",
    "    \"\"\"\n",
    "    n = ntop + nbottom\n",
    "\n",
    "    output = f\"{n}\\n\"\n",
    "\n",
    "    if initState != None:\n",
    "\n",
    "        output += f\"INITSTATE FILE {initState}\\n\"\n",
    "\n",
    "    else:\n",
    "\n",
    "        output += f\"INITSTATE |{'0' * ntop}{'1' * nbottom}>\\n\"\n",
    "\n",
    "    for top in range(ntop):\n",
    "\n",
    "        output += f\"H {top}\\n\"\n",
    "\n",
    "    for top in range(ntop):\n",
    "\n",
    "        theta = phase * 2 ** (ntop - top - 1)\n",
    "        output += f\"CPHASE {top} {ntop} {theta}\\n\"\n",
    "\n",
    "    output += invQFT(ntop)[0]\n",
    "\n",
    "    return output, precompile(output)\n",
    "\n",
    "\n",
    "def phaseEstSim(phis, ntop, nbottom, ntrials=1000, initState=None):\n",
    "\n",
    "    if initState == None:\n",
    "\n",
    "        initState = f'|{\"0\" * ntop}{\"1\" * nbottom}>'\n",
    "\n",
    "    thetas = []\n",
    "    probs0 = []\n",
    "    for phi in phis:\n",
    "\n",
    "        circ, compiled = buildPhaseEstCirc(ntop, nbottom, phi, initState=initState)\n",
    "        theta, prob0 = phaseEst(circ, ntrials=ntrials)\n",
    "        thetas.append(theta)\n",
    "        probs0.append(prob0)\n",
    "\n",
    "    if len(probs0) == 1:\n",
    "\n",
    "        return thetas[0], probs0[0]\n",
    "\n",
    "    return thetas, probs0"
   ]
  },
  {
   "cell_type": "markdown",
   "metadata": {},
   "source": [
    "## 1 top 1 bottom wire phase estimate"
   ]
  },
  {
   "cell_type": "code",
   "execution_count": 27,
   "metadata": {
    "ExecuteTime": {
     "end_time": "2024-03-07T04:06:07.299213Z",
     "start_time": "2024-03-07T04:06:06.200025Z"
    }
   },
   "outputs": [
    {
     "data": {
      "image/png": "[encoded data removed]",
      "text/plain": [
       "<Figure size 640x480 with 1 Axes>"
      ]
     },
     "metadata": {},
     "output_type": "display_data"
    }
   ],
   "source": [
    "phis = np.linspace(0, 2 * np.pi, 100)\n",
    "ntop = 1\n",
    "nbottom = 1\n",
    "thetas, probs = phaseEstSim(phis, ntop, nbottom, ntrials=1000)\n",
    "plotTheta(phis, thetas)"
   ]
  },
  {
   "cell_type": "code",
   "execution_count": 28,
   "metadata": {
    "ExecuteTime": {
     "end_time": "2024-03-07T04:06:07.456651Z",
     "start_time": "2024-03-07T04:06:07.299935Z"
    }
   },
   "outputs": [
    {
     "data": {
      "image/png": "[encoded data removed]",
      "text/plain": [
       "<Figure size 640x480 with 1 Axes>"
      ]
     },
     "metadata": {},
     "output_type": "display_data"
    }
   ],
   "source": [
    "phi = 0.9\n",
    "theta, probs = phaseEstSim([phi], ntop, nbottom, ntrials=10000)\n",
    "decimalStates = topWireDecimalStates(probs, nbottom)\n",
    "thetaHist(decimalStates, probs, phi)"
   ]
  },
  {
   "cell_type": "markdown",
   "metadata": {},
   "source": [
    "## 2 top 1 bottom wire phase estimate"
   ]
  },
  {
   "cell_type": "code",
   "execution_count": 29,
   "metadata": {
    "ExecuteTime": {
     "end_time": "2024-03-07T04:06:08.611181Z",
     "start_time": "2024-03-07T04:06:07.457407Z"
    }
   },
   "outputs": [
    {
     "data": {
      "image/png": "[encoded data removed]",
      "text/plain": [
       "<Figure size 640x480 with 1 Axes>"
      ]
     },
     "metadata": {},
     "output_type": "display_data"
    }
   ],
   "source": [
    "ntop = 2\n",
    "nbottom = 1\n",
    "phis = np.linspace(0, 2 * np.pi, 100)\n",
    "thetas, probs = phaseEstSim(phis, ntop, nbottom, ntrials=1000)\n",
    "plotTheta(phis, thetas)"
   ]
  },
  {
   "cell_type": "code",
   "execution_count": 30,
   "metadata": {
    "ExecuteTime": {
     "end_time": "2024-03-07T04:06:08.760014Z",
     "start_time": "2024-03-07T04:06:08.611889Z"
    }
   },
   "outputs": [
    {
     "data": {
      "image/png": "[encoded data removed]",
      "text/plain": [
       "<Figure size 640x480 with 1 Axes>"
      ]
     },
     "metadata": {},
     "output_type": "display_data"
    }
   ],
   "source": [
    "phi = 0.9\n",
    "theta, probs = phaseEstSim([phi], ntop, nbottom, ntrials=10000)\n",
    "decimalStates = topWireDecimalStates(probs, nbottom)\n",
    "thetaHist(decimalStates, probs, phi)"
   ]
  },
  {
   "cell_type": "markdown",
   "metadata": {},
   "source": [
    "## QFT Verification"
   ]
  },
  {
   "cell_type": "markdown",
   "metadata": {},
   "source": [
    "## 6 top, 3 bottom phase estimate"
   ]
  },
  {
   "cell_type": "code",
   "execution_count": 31,
   "metadata": {
    "ExecuteTime": {
     "end_time": "2024-03-07T04:06:22.262715Z",
     "start_time": "2024-03-07T04:06:08.760729Z"
    }
   },
   "outputs": [
    {
     "data": {
      "image/png": "[encoded data removed]",
      "text/plain": [
       "<Figure size 640x480 with 1 Axes>"
      ]
     },
     "metadata": {},
     "output_type": "display_data"
    }
   ],
   "source": [
    "ntop = 6\n",
    "nbottom = 3\n",
    "phis = np.linspace(0, 2 * np.pi, 100)\n",
    "thetas, probs = phaseEstSim(phis, ntop, nbottom, ntrials=1000)\n",
    "plotTheta(phis, thetas)"
   ]
  },
  {
   "cell_type": "code",
   "execution_count": 32,
   "metadata": {
    "ExecuteTime": {
     "end_time": "2024-03-07T04:06:22.743745Z",
     "start_time": "2024-03-07T04:06:22.263414Z"
    }
   },
   "outputs": [
    {
     "data": {
      "image/png": "[encoded data removed]",
      "text/plain": [
       "<Figure size 640x480 with 1 Axes>"
      ]
     },
     "metadata": {},
     "output_type": "display_data"
    }
   ],
   "source": [
    "phi = 0.9\n",
    "theta, probs = phaseEstSim([phi], ntop, nbottom, ntrials=10000)\n",
    "decimalStates = topWireDecimalStates(probs, nbottom)\n",
    "thetaHist(decimalStates, probs, phi)"
   ]
  },
  {
   "cell_type": "markdown",
   "metadata": {},
   "source": [
    "## Different eigenstate"
   ]
  },
  {
   "cell_type": "code",
   "execution_count": 33,
   "metadata": {
    "ExecuteTime": {
     "end_time": "2024-03-07T04:06:23.272379Z",
     "start_time": "2024-03-07T04:06:22.746756Z"
    }
   },
   "outputs": [
    {
     "data": {
      "image/png": "[encoded data removed]",
      "text/plain": [
       "<Figure size 640x480 with 1 Axes>"
      ]
     },
     "metadata": {},
     "output_type": "display_data"
    }
   ],
   "source": [
    "initState = [(np.sqrt(0.3), (\"000000000\")), (np.sqrt(0.7), \"000000100\")]\n",
    "phi = 0.5\n",
    "ntop = 6\n",
    "nbottom = 3\n",
    "theta, probs = phaseEstSim([phi], ntop, nbottom, ntrials=10000, initState=initState)\n",
    "decimalStates = topWireDecimalStates(probs, nbottom)\n",
    "thetaHist(decimalStates, probs, phi)"
   ]
  },
  {
   "cell_type": "markdown",
   "metadata": {},
   "source": [
    "## Testing QFT"
   ]
  },
  {
   "cell_type": "code",
   "execution_count": 34,
   "metadata": {
    "ExecuteTime": {
     "end_time": "2024-03-07T04:06:23.275503Z",
     "start_time": "2024-03-07T04:06:23.273094Z"
    }
   },
   "outputs": [
    {
     "name": "stdout",
     "output_type": "stream",
     "text": [
      "9\n",
      "INITSTATE |000000111>\n",
      "H 0\n",
      "H 1\n",
      "H 2\n",
      "H 3\n",
      "H 4\n",
      "H 5\n",
      "CPHASE 0 6 16.0\n",
      "CPHASE 1 6 8.0\n",
      "CPHASE 2 6 4.0\n",
      "CPHASE 3 6 2.0\n",
      "CPHASE 4 6 1.0\n",
      "CPHASE 5 6 0.5\n",
      "SWAP 0 5\n",
      "SWAP 1 4\n",
      "SWAP 2 3\n",
      "H 5\n",
      "CPHASE 5 0 -0.09817477042468103\n",
      "CPHASE 5 1 -0.19634954084936207\n",
      "CPHASE 5 2 -0.39269908169872414\n",
      "CPHASE 5 3 -0.7853981633974483\n",
      "CPHASE 5 4 -1.5707963267948966\n",
      "H 4\n",
      "CPHASE 4 0 -0.19634954084936207\n",
      "CPHASE 4 1 -0.39269908169872414\n",
      "CPHASE 4 2 -0.7853981633974483\n",
      "CPHASE 4 3 -1.5707963267948966\n",
      "H 3\n",
      "CPHASE 3 0 -0.39269908169872414\n",
      "CPHASE 3 1 -0.7853981633974483\n",
      "CPHASE 3 2 -1.5707963267948966\n",
      "H 2\n",
      "CPHASE 2 0 -0.7853981633974483\n",
      "CPHASE 2 1 -1.5707963267948966\n",
      "H 1\n",
      "CPHASE 1 0 -1.5707963267948966\n",
      "H 0\n"
     ]
    }
   ],
   "source": [
    "ntop = 6\n",
    "nbottom = 3\n",
    "phi = 0.5\n",
    "circ, compiled = buildPhaseEstCirc(6, 3, phi)\n",
    "print(circ)"
   ]
  },
  {
   "cell_type": "markdown",
   "metadata": {},
   "source": [
    "### 3 bit QFT vs qiskit"
   ]
  },
  {
   "cell_type": "code",
   "execution_count": 35,
   "metadata": {
    "ExecuteTime": {
     "end_time": "2024-03-07T04:06:23.279903Z",
     "start_time": "2024-03-07T04:06:23.276001Z"
    }
   },
   "outputs": [
    {
     "name": "stdout",
     "output_type": "stream",
     "text": [
      "3\n",
      "INITSTATE FILE |000>\n",
      "H 2\n",
      "CPHASE 2 1 1.5707963267948966\n",
      "CPHASE 2 0 0.7853981633974483\n",
      "H 1\n",
      "CPHASE 1 0 1.5707963267948966\n",
      "H 0\n",
      "SWAP 0 2\n",
      "\n",
      "(0.3536+0j)|000> + (0.3536+0j)|001> + (0.3536-0j)|010> + (0.3536-0j)|011> + \n",
      "(0.3536-0j)|100> + (0.3536-0j)|101> + (0.3536-0j)|110> + (0.3536-0j)|111>\n"
     ]
    }
   ],
   "source": [
    "nbits = 3\n",
    "qft3, compiled = QFT(nbits, initState=\"|000>\")\n",
    "print(qft3)\n",
    "\n",
    "states = runSim(compiled)\n",
    "PrettyPrintBinary(states)"
   ]
  },
  {
   "cell_type": "code",
   "execution_count": 36,
   "metadata": {
    "ExecuteTime": {
     "end_time": "2024-03-07T04:06:24.484509Z",
     "start_time": "2024-03-07T04:06:23.280374Z"
    }
   },
   "outputs": [
    {
     "name": "stdout",
     "output_type": "stream",
     "text": [
      "(0.3536+0j)|000> + (0.3536+0j)|001> + (0.3536+0j)|010> + (0.3536+0j)|011> + \n",
      "(0.3536+0j)|100> + (0.3536+0j)|101> + (0.3536+0j)|110> + (0.3536+0j)|111>\n"
     ]
    },
    {
     "data": {
      "image/png": "[encoded data removed]",
      "text/plain": [
       "<Figure size 956.385x284.278 with 1 Axes>"
      ]
     },
     "execution_count": 36,
     "metadata": {},
     "output_type": "execute_result"
    }
   ],
   "source": [
    "from qiskit.circuit.library import QFT as qisQFT\n",
    "from qiskit_aer import Aer\n",
    "from qiskit import transpile\n",
    "\n",
    "sim = Aer.get_backend(\"unitary_simulator\")\n",
    "qc = qisQFT(3)\n",
    "qc = transpile(qc, sim)\n",
    "unitary = sim.run(qc).result().get_unitary()\n",
    "unitary = np.asarray(unitary).round(4)\n",
    "input = np.array([1, 0, 0, 0, 0, 0, 0, 0])\n",
    "output = unitary.T @ input\n",
    "PrettyPrintBinary(VecToDirac(output))\n",
    "qc.draw(\"mpl\")"
   ]
  },
  {
   "cell_type": "markdown",
   "metadata": {},
   "source": [
    "## 5 bit QFT vs qiskit"
   ]
  },
  {
   "cell_type": "code",
   "execution_count": 37,
   "metadata": {
    "ExecuteTime": {
     "end_time": "2024-03-07T04:06:24.514695Z",
     "start_time": "2024-03-07T04:06:24.485118Z"
    }
   },
   "outputs": [
    {
     "name": "stdout",
     "output_type": "stream",
     "text": [
      "5\n",
      "INITSTATE FILE myInputState.txt\n",
      "H 4\n",
      "CPHASE 4 3 1.5707963267948966\n",
      "CPHASE 4 2 0.7853981633974483\n",
      "CPHASE 4 1 0.39269908169872414\n",
      "CPHASE 4 0 0.19634954084936207\n",
      "H 3\n",
      "CPHASE 3 2 1.5707963267948966\n",
      "CPHASE 3 1 0.7853981633974483\n",
      "CPHASE 3 0 0.39269908169872414\n",
      "H 2\n",
      "CPHASE 2 1 1.5707963267948966\n",
      "CPHASE 2 0 0.7853981633974483\n",
      "H 1\n",
      "CPHASE 1 0 1.5707963267948966\n",
      "H 0\n",
      "SWAP 0 4\n",
      "SWAP 1 3\n",
      "\n",
      "(-0.0403-0.2209j)|00000> + (0.0537-0.3213j)|00001> + (0.1757+0.0802j)|00010> + \n",
      "(-0.1096+0.0022j)|00011> + (0.0191+0.0706j)|00100> + (-0.0928-0.1661j)|00101> + (-0.0849-0.0967j)|00110> + \n",
      "(0.1625-0.0853j)|00111> + (0.2493+0.0642j)|01000> + (-0.1524-0.1436j)|01001> + (-0.0003+0.0288j)|01010> + \n",
      "(-0.0839+0.1516j)|01011> + (0.0323-0.1069j)|01100> + (0.0165-0.0136j)|01101> + (0.0083-0.1441j)|01110> + \n",
      "(0.0943-0.0559j)|01111> + (0.0392+0.0239j)|10000> + (0.084-0.0938j)|10001> + (-0.0791+0.0339j)|10010> + \n",
      "(-0.1205-0.0218j)|10011> + (-0.033+0.1764j)|10100> + (-0.0114+0.1021j)|10101> + (-0.1229-0.2535j)|10110> + \n",
      "(0.2661-0.2084j)|10111> + (-0.1534+0.0395j)|11000> + (-0.1408+0.0677j)|11001> + \n",
      "(-0.0295-0.0398j)|11010> + (-0.0741-0.0497j)|11011> + (-0.0388-0.2765j)|11100> + \n",
      "(-0.0767+0.2151j)|11101> + (-0.0479+0.1906j)|11110> + (0.044+0.091j)|11111>\n"
     ]
    }
   ],
   "source": [
    "qft5, compiled = QFT(5, \"myInputState.txt\")\n",
    "print(qft5)\n",
    "states = runSim(compiled)\n",
    "PrettyPrintBinary(states)"
   ]
  },
  {
   "cell_type": "code",
   "execution_count": 38,
   "metadata": {
    "ExecuteTime": {
     "end_time": "2024-03-07T04:06:24.651823Z",
     "start_time": "2024-03-07T04:06:24.515522Z"
    }
   },
   "outputs": [
    {
     "name": "stdout",
     "output_type": "stream",
     "text": [
      "(-0.0403-0.2209j)|00000> + (0.1411+0.1665j)|00001> + (0.1848+0.0639j)|00010> + \n",
      "(0.0003-0.0222j)|00011> + (0.1567-0.0846j)|00100> + (0.2119-0.1355j)|00101> + (0.0244+0.0073j)|00110> + \n",
      "(0.1228-0.2049j)|00111> + (0.2166+0.0201j)|01000> + (0.1072+0.0013j)|01001> + (-0.2352-0.001j)|01010> + \n",
      "(-0.077-0.1674j)|01011> + (-0.0014+0.1086j)|01100> + (-0.0452-0.1133j)|01101> + \n",
      "(-0.1991-0.1132j)|01110> + (-0.1595+0.1467j)|01111> + (-0.0337+0.0794j)|10000> + (0.028-0.0007j)|10001> + \n",
      "(-0.0288-0.0853j)|10010> + (-0.2534-0.2309j)|10011> + (0.2441+0.0389j)|10100> + (-0.125-0.0073j)|10101> + \n",
      "(-0.1493-0.0427j)|10110> + (0.1768-0.0506j)|10111> + (-0.1181+0.0162j)|11000> + (-0.1053+0.0386j)|11001> + \n",
      "(-0.0293+0.0125j)|11010> + (-0.2141+0.0843j)|11011> + (0.1258-0.0245j)|11100> + (-0.077-0.1228j)|11101> + \n",
      "(0.0763-0.1187j)|11110> + (-0.1723+0.002j)|11111>\n"
     ]
    },
    {
     "data": {
      "image/png": "[encoded data removed]",
      "text/plain": [
       "<Figure size 2210.55x953.167 with 1 Axes>"
      ]
     },
     "execution_count": 38,
     "metadata": {},
     "output_type": "execute_result"
    }
   ],
   "source": [
    "sim = Aer.get_backend(\"unitary_simulator\")\n",
    "qc = qisQFT(5, do_swaps=True, inverse=False)\n",
    "qc = transpile(qc, sim)\n",
    "unitary = sim.run(qc).result().get_unitary()\n",
    "unitary = np.asarray(unitary).round(20)\n",
    "input = readState(\"myInputState.txt\")\n",
    "output = unitary @ input\n",
    "PrettyPrintBinary(VecToDirac(output))\n",
    "qc.draw(\"mpl\")"
   ]
  },
  {
   "cell_type": "code",
   "execution_count": 39,
   "metadata": {
    "ExecuteTime": {
     "end_time": "2024-03-07T04:06:24.655246Z",
     "start_time": "2024-03-07T04:06:24.652811Z"
    }
   },
   "outputs": [
    {
     "name": "stdout",
     "output_type": "stream",
     "text": [
      "(32, 32)\n",
      "[[ 0.18+0.j    0.18-0.j    0.18-0.j   ...  0.18-0.j    0.18-0.j\n",
      "   0.18-0.j  ]\n",
      " [ 0.18+0.j    0.17+0.03j  0.16+0.07j ...  0.15-0.1j   0.16-0.07j\n",
      "   0.17-0.03j]\n",
      " [ 0.18+0.j    0.16+0.07j  0.13+0.12j ...  0.07-0.16j  0.12-0.13j\n",
      "   0.16-0.07j]\n",
      " ...\n",
      " [ 0.18+0.j    0.15-0.1j   0.07-0.16j ... -0.03+0.17j  0.07+0.16j\n",
      "   0.15+0.1j ]\n",
      " [ 0.18+0.j    0.16-0.07j  0.12-0.13j ...  0.07+0.16j  0.13+0.12j\n",
      "   0.16+0.07j]\n",
      " [ 0.18+0.j    0.17-0.03j  0.16-0.07j ...  0.15+0.1j   0.16+0.07j\n",
      "   0.17+0.03j]]\n"
     ]
    }
   ],
   "source": [
    "print(unitary.shape)\n",
    "print(unitary.round(2))"
   ]
  },
  {
   "cell_type": "code",
   "execution_count": 40,
   "metadata": {
    "ExecuteTime": {
     "end_time": "2024-03-07T04:06:24.676475Z",
     "start_time": "2024-03-07T04:06:24.656038Z"
    }
   },
   "outputs": [
    {
     "name": "stdout",
     "output_type": "stream",
     "text": [
      "(0.5+0j)|00> + 0.5j|01> + (-0.5+0j)|10> + -0.5j|11>\n"
     ]
    }
   ],
   "source": [
    "from qiskit.circuit.library import QFT as qisQFT\n",
    "from qiskit_aer import Aer\n",
    "from qiskit import transpile\n",
    "\n",
    "sim = Aer.get_backend(\"unitary_simulator\")\n",
    "qc = qisQFT(num_qubits=2, approximation_degree=0)\n",
    "qc = transpile(qc, sim)\n",
    "unitary = sim.run(qc).result().get_unitary()\n",
    "unitary = np.asarray(unitary).round(4)\n",
    "input = DiracToVec([(1, \"01\")])\n",
    "output = unitary.T @ input\n",
    "PrettyPrintBinary(VecToDirac(output))\n",
    "qc.draw(\"mpl\")\n",
    "print()\n",
    "# print(unitary)"
   ]
  },
  {
   "cell_type": "code",
   "execution_count": 41,
   "metadata": {
    "ExecuteTime": {
     "end_time": "2024-03-07T04:06:24.681924Z",
     "start_time": "2024-03-07T04:06:24.677608Z"
    }
   },
   "outputs": [
    {
     "name": "stdout",
     "output_type": "stream",
     "text": [
      "3\n",
      "INITSTATE FILE |101>\n",
      "H 2\n",
      "CPHASE 2 1 1.5707963267948966\n",
      "CPHASE 2 0 0.7853981633974483\n",
      "H 1\n",
      "CPHASE 1 0 1.5707963267948966\n",
      "H 0\n",
      "SWAP 0 2\n",
      "\n",
      "(0.3536+0j)|000> + (-0.3536-0j)|001> + 0.3536j|010> + (-0-0.3536j)|011> + \n",
      "(-0.25-0.25j)|100> + (0.25+0.25j)|101> + (0.25-0.25j)|110> + (-0.25+0.25j)|111>\n",
      "\n",
      "3\n",
      "INITSTATE FILE |101>\n",
      "H 2\n",
      "P 2 0.7853981633974483\n",
      "CNOT 2 1\n",
      "P 1 -0.7853981633974483\n",
      "CNOT 2 1\n",
      "P 1 0.7853981633974483\n",
      "P 2 0.39269908169872414\n",
      "CNOT 2 0\n",
      "P 0 -0.39269908169872414\n",
      "CNOT 2 0\n",
      "P 0 0.39269908169872414\n",
      "H 1\n",
      "P 1 0.7853981633974483\n",
      "CNOT 1 0\n",
      "P 0 -0.7853981633974483\n",
      "CNOT 1 0\n",
      "P 0 0.7853981633974483\n",
      "H 0\n",
      "CNOT 0 2\n",
      "CNOT 2 0\n",
      "CNOT 0 2\n"
     ]
    }
   ],
   "source": [
    "nbits = 3\n",
    "qft3, compiled = QFT(nbits, initState=\"|101>\")\n",
    "print(qft3)\n",
    "\n",
    "states = runSim(compiled)\n",
    "PrettyPrintBinary(states)\n",
    "print()\n",
    "print(compiled)"
   ]
  },
  {
   "cell_type": "code",
   "execution_count": 42,
   "metadata": {
    "ExecuteTime": {
     "end_time": "2024-03-07T04:06:24.684474Z",
     "start_time": "2024-03-07T04:06:24.682785Z"
    }
   },
   "outputs": [],
   "source": [
    "from qiskit import QuantumCircuit\n",
    "from qiskit.circuit.library import UGate, PhaseGate, HGate, CPhaseGate, CRZGate, RZGate\n",
    "from qiskit.transpiler.passes import Decompose"
   ]
  },
  {
   "cell_type": "code",
   "execution_count": 43,
   "metadata": {
    "ExecuteTime": {
     "end_time": "2024-03-07T04:06:24.688246Z",
     "start_time": "2024-03-07T04:06:24.685191Z"
    }
   },
   "outputs": [
    {
     "name": "stdout",
     "output_type": "stream",
     "text": [
      "[[ 0.3536+0.j      0.3536+0.j      0.3536+0.j      0.3536+0.j\n",
      "   0.3536+0.j      0.3536+0.j      0.3536+0.j      0.3536+0.j    ]\n",
      " [ 0.3536+0.j      0.3536+0.j      0.3536+0.j      0.3536+0.j\n",
      "  -0.3536-0.j     -0.3536-0.j     -0.3536-0.j     -0.3536-0.j    ]\n",
      " [ 0.3536+0.j      0.3536+0.j     -0.3536-0.j     -0.3536-0.j\n",
      "   0.    +0.3536j  0.    +0.3536j -0.    -0.3536j -0.    -0.3536j]\n",
      " [ 0.3536+0.j      0.3536+0.j     -0.3536-0.j     -0.3536-0.j\n",
      "  -0.    -0.3536j -0.    -0.3536j  0.    +0.3536j  0.    +0.3536j]\n",
      " [ 0.3536-0.j     -0.3536+0.j      0.    +0.3536j -0.    -0.3536j\n",
      "   0.25  +0.25j   -0.25  -0.25j   -0.25  +0.25j    0.25  -0.25j  ]\n",
      " [ 0.3536-0.j     -0.3536+0.j      0.    +0.3536j -0.    -0.3536j\n",
      "  -0.25  -0.25j    0.25  +0.25j    0.25  -0.25j   -0.25  +0.25j  ]\n",
      " [ 0.3536-0.j     -0.3536+0.j     -0.    -0.3536j  0.    +0.3536j\n",
      "  -0.25  +0.25j    0.25  -0.25j    0.25  +0.25j   -0.25  -0.25j  ]\n",
      " [ 0.3536-0.j     -0.3536+0.j     -0.    -0.3536j  0.    +0.3536j\n",
      "   0.25  -0.25j   -0.25  +0.25j   -0.25  -0.25j    0.25  +0.25j  ]]\n"
     ]
    }
   ],
   "source": [
    "output, U = runSimArray(compiled)\n",
    "print(U.round(4))"
   ]
  },
  {
   "cell_type": "code",
   "execution_count": 44,
   "metadata": {
    "ExecuteTime": {
     "end_time": "2024-03-07T04:06:24.755009Z",
     "start_time": "2024-03-07T04:06:24.689056Z"
    }
   },
   "outputs": [
    {
     "name": "stdout",
     "output_type": "stream",
     "text": [
      "     ┌──────┐\n",
      "q_0: ┤0     ├\n",
      "     │  QFT │\n",
      "q_1: ┤1     ├\n",
      "     └──────┘\n"
     ]
    },
    {
     "data": {
      "image/png": "[encoded data removed]",
      "text/plain": [
       "<Figure size 203.683x200.667 with 1 Axes>"
      ]
     },
     "execution_count": 44,
     "metadata": {},
     "output_type": "execute_result"
    }
   ],
   "source": [
    "qc = qisQFT(num_qubits=2, approximation_degree=0)\n",
    "qc = qc.decompose(\"PhaseGate\")\n",
    "print(qc)\n",
    "qc.draw(\"mpl\")"
   ]
  },
  {
   "cell_type": "code",
   "execution_count": 45,
   "metadata": {
    "ExecuteTime": {
     "end_time": "2024-03-07T04:06:24.759096Z",
     "start_time": "2024-03-07T04:06:24.755670Z"
    }
   },
   "outputs": [
    {
     "name": "stdout",
     "output_type": "stream",
     "text": [
      "     ┌───────┐\n",
      "q_0: ┤ Rz(π) ├\n",
      "     └───┬───┘\n",
      "q_1: ────■────\n",
      "              \n",
      "     ┌─────────┐┌───┐┌──────────┐┌───┐\n",
      "q_0: ┤ Rz(π/2) ├┤ X ├┤ Rz(-π/2) ├┤ X ├\n",
      "     └─────────┘└─┬─┘└──────────┘└─┬─┘\n",
      "q_1: ─────────────■────────────────■──\n",
      "                                      \n"
     ]
    }
   ],
   "source": [
    "qc = QuantumCircuit(2)\n",
    "# qc.h(0)\n",
    "# print(qc.decompose(reps=4))\n",
    "qc.crz(np.pi, 1, 0)\n",
    "print(qc)\n",
    "print(qc.decompose(CRZGate, reps=2))"
   ]
  },
  {
   "cell_type": "code",
   "execution_count": 46,
   "metadata": {
    "ExecuteTime": {
     "end_time": "2024-03-07T04:06:24.801828Z",
     "start_time": "2024-03-07T04:06:24.759712Z"
    }
   },
   "outputs": [
    {
     "data": {
      "text/plain": [
       "(0.0, 1.0)"
      ]
     },
     "execution_count": 46,
     "metadata": {},
     "output_type": "execute_result"
    },
    {
     "data": {
      "image/png": "[encoded data removed]",
      "text/plain": [
       "<Figure size 640x480 with 1 Axes>"
      ]
     },
     "metadata": {},
     "output_type": "display_data"
    }
   ],
   "source": [
    "x, y = np.ones(2), np.ones(2)\n",
    "\n",
    "fig, ax = plt.subplots()\n",
    "ax.scatter(x, y)\n",
    "ax.set_aspect(\"equal\")\n",
    "ax.set_xlim(0, 1)"
   ]
  },
  {
   "cell_type": "code",
   "execution_count": null,
   "metadata": {
    "collapsed": false
   },
   "outputs": [],
   "source": []
  }
 ],
 "metadata": {
  "kernelspec": {
   "display_name": "analysis",
   "language": "python",
   "name": "python3"
  },
  "language_info": {
   "codemirror_mode": {
    "name": "ipython",
    "version": 3
   },
   "file_extension": ".py",
   "mimetype": "text/x-python",
   "name": "python",
   "nbconvert_exporter": "python",
   "pygments_lexer": "ipython3",
   "version": "3.12.2"
  }
 },
 "nbformat": 4,
 "nbformat_minor": 2
}
