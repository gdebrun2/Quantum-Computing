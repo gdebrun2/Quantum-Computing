{
 "cells": [
  {
   "cell_type": "markdown",
   "metadata": {
    "id": "0-UthCWJiEc2"
   },
   "source": [
    "# Quantum Computing 1"
   ]
  },
  {
   "cell_type": "markdown",
   "metadata": {
    "id": "SiYU-95LiEc2"
   },
   "source": [
    "**Author:** Gavin DeBrun"
   ]
  },
  {
   "cell_type": "code",
   "execution_count": null,
   "metadata": {
    "colab": {
     "base_uri": "https://localhost:8080/"
    },
    "executionInfo": {
     "elapsed": 3538,
     "status": "ok",
     "timestamp": 1607031213212,
     "user": {
      "displayName": "Gavin Debrun",
      "photoUrl": "",
      "userId": "16932255542580517286"
     },
     "user_tz": 360
    },
    "id": "WmjDj5OdiEc2",
    "outputId": "2876da39-0d75-4eeb-c57f-898e55dabe61"
   },
   "outputs": [],
   "source": [
    "!pip3 install qiskit[visualization]"
   ]
  },
  {
   "cell_type": "code",
   "execution_count": null,
   "metadata": {
    "id": "XqD0VUmciEc2"
   },
   "outputs": [],
   "source": [
    "import qiskit\n",
    "from qiskit import *\n",
    "import numpy as np\n",
    "from qiskit.visualization import *\n",
    "import matplotlib.pyplot as plt"
   ]
  },
  {
   "cell_type": "code",
   "execution_count": null,
   "metadata": {
    "colab": {
     "base_uri": "https://localhost:8080/"
    },
    "executionInfo": {
     "elapsed": 2329,
     "status": "ok",
     "timestamp": 1607031224097,
     "user": {
      "displayName": "Gavin Debrun",
      "photoUrl": "",
      "userId": "16932255542580517286"
     },
     "user_tz": 360
    },
    "id": "c1TwQhZgiEc2",
    "outputId": "af98feb2-4864-4e94-bb4c-e5bc4c6f35f4"
   },
   "outputs": [
    {
     "name": "stderr",
     "output_type": "stream",
     "text": [
      "/usr/local/lib/python3.6/dist-packages/qiskit/providers/ibmq/ibmqfactory.py:192: UserWarning: Timestamps in IBMQ backend properties, jobs, and job results are all now in local time instead of UTC.\n",
      "  warnings.warn('Timestamps in IBMQ backend properties, jobs, and job results '\n"
     ]
    },
    {
     "data": {
      "text/plain": [
       "<AccountProvider for IBMQ(hub='ibm-q', group='open', project='main')>"
      ]
     },
     "execution_count": 172,
     "metadata": {
      "tags": []
     },
     "output_type": "execute_result"
    }
   ],
   "source": [
    "\n",
    "# first do \n",
    "IBMQ.save_account(\"00e972b66a800549589ee0d23c07aed4914ae87440992a8224b6fa370f9061d417aff1f96dea234eedd7ff84eaa2b547ccce2fac323079527be94803c49b39bf\") #run this only once \n",
    "IBMQ.load_account()"
   ]
  },
  {
   "cell_type": "code",
   "execution_count": null,
   "metadata": {
    "id": "5KM75zXZiEc2"
   },
   "outputs": [],
   "source": [
    "def RunMe(qc,num_shots=1024):\n",
    "    '''Get shot output for a quantum circuit'''\n",
    "    backend = BasicAer.get_backend('qasm_simulator')\n",
    "    job = execute(qc, backend,shots=num_shots)\n",
    "    result = job.result()\n",
    "    return result\n",
    "\n",
    "def RunMeState(qc):\n",
    "    '''Get statevector output of a circuit'''\n",
    "    qcc = qc.copy()\n",
    "    qcc.remove_final_measurements() #make sure we'll get a statevector\n",
    "    backend = BasicAer.get_backend('statevector_simulator')\n",
    "    job = execute(qcc, backend,shots=1)\n",
    "    result = job.result()\n",
    "    return result\n",
    "\n",
    "def RunMeQC(qc):\n",
    "    '''Run a circuit on a quantum computer'''\n",
    "    provider = IBMQ.get_provider(hub='ibm-q')\n",
    "    from qiskit.providers.ibmq import least_busy\n",
    "    small_devices = provider.backends(filters=lambda x: x.configuration().n_qubits == 5\n",
    "                                       and not x.configuration().simulator)\n",
    "    backend = least_busy(small_devices)\n",
    "    jobReal = execute(qc, backend)\n",
    "    return jobReal\n",
    "\n",
    "\n",
    "def StateToBinary(b):\n",
    "    '''Takes a statevector and produces a binary representation'''\n",
    "    wires=int(round(np.log2(len(b))))\n",
    "    for i in range(0,2**wires):\n",
    "        myFormat=\"0\"+str(wires)+\"b\"\n",
    "        if np.abs(b[i])!=0:\n",
    "            print(b[i],'|',format(i, myFormat)[::-1],'>')\n",
    "def saveJob(job):\n",
    "    print(\"jobLoad = loadJob('{}','{}')\".format(job.job_id(),job.backend().name()))\n",
    "def loadJob(job_id,name):\n",
    "    provider    = IBMQ.get_provider('ibm-q')\n",
    "    thisBackend = provider.get_backend(name)\n",
    "    return thisBackend.retrieve_job(job_id)"
   ]
  },
  {
   "cell_type": "markdown",
   "metadata": {
    "id": "7Ai6GQHMiEc2"
   },
   "source": [
    "## 1: A Single Qubit"
   ]
  },
  {
   "cell_type": "code",
   "execution_count": null,
   "metadata": {
    "id": "DJbiLdMoiEc2"
   },
   "outputs": [],
   "source": [
    "qc = QuantumCircuit(2)\n",
    "qc.draw(output='mpl')"
   ]
  },
  {
   "cell_type": "code",
   "execution_count": null,
   "metadata": {
    "colab": {
     "base_uri": "https://localhost:8080/",
     "height": 95
    },
    "executionInfo": {
     "elapsed": 453,
     "status": "ok",
     "timestamp": 1606803551521,
     "user": {
      "displayName": "Gavin Debrun",
      "photoUrl": "",
      "userId": "16932255542580517286"
     },
     "user_tz": 360
    },
    "id": "JyJ1Oe27iEc2",
    "outputId": "d6b39407-0138-46ab-f81d-f07748b7d369"
   },
   "outputs": [
    {
     "data": {
      "image/png": "[encoded data removed]",
      "text/plain": [
       "<Figure size 133.526x84.28 with 1 Axes>"
      ]
     },
     "execution_count": 106,
     "metadata": {
      "tags": []
     },
     "output_type": "execute_result"
    }
   ],
   "source": [
    "quantumWires=1\n",
    "qc = QuantumCircuit(quantumWires)\n",
    "qc.x(0) # this is a quantum NOT Gate.\n",
    "qc.draw(output='mpl') #to draw this needs to be the last command"
   ]
  },
  {
   "cell_type": "code",
   "execution_count": null,
   "metadata": {
    "colab": {
     "base_uri": "https://localhost:8080/"
    },
    "executionInfo": {
     "elapsed": 291,
     "status": "ok",
     "timestamp": 1606803555382,
     "user": {
      "displayName": "Gavin Debrun",
      "photoUrl": "",
      "userId": "16932255542580517286"
     },
     "user_tz": 360
    },
    "id": "oHEdueCZiEc3",
    "outputId": "8bb10e09-ed31-4332-c227-2f45c4649a38"
   },
   "outputs": [
    {
     "name": "stdout",
     "output_type": "stream",
     "text": [
      "(1+0j) | 1 >\n"
     ]
    }
   ],
   "source": [
    "results=RunMeState(qc)\n",
    "StateToBinary(results.get_statevector())"
   ]
  },
  {
   "cell_type": "code",
   "execution_count": null,
   "metadata": {
    "colab": {
     "base_uri": "https://localhost:8080/",
     "height": 112
    },
    "executionInfo": {
     "elapsed": 427,
     "status": "ok",
     "timestamp": 1606803558978,
     "user": {
      "displayName": "Gavin Debrun",
      "photoUrl": "",
      "userId": "16932255542580517286"
     },
     "user_tz": 360
    },
    "id": "1mrBzv0hiEc3",
    "outputId": "aa6d4b8b-3422-4305-e030-22934fc62336"
   },
   "outputs": [
    {
     "name": "stdout",
     "output_type": "stream",
     "text": [
      "(1+0j) | 0 >\n"
     ]
    },
    {
     "data": {
      "image/png": "[encoded data removed]",
      "text/plain": [
       "<Figure size 193.726x84.28 with 1 Axes>"
      ]
     },
     "execution_count": 108,
     "metadata": {
      "tags": []
     },
     "output_type": "execute_result"
    }
   ],
   "source": [
    "qc.x(0)\n",
    "results=RunMeState(qc)\n",
    "StateToBinary(results.get_statevector())\n",
    "qc.draw(output='mpl') #to draw this needs to be the last command"
   ]
  },
  {
   "cell_type": "code",
   "execution_count": null,
   "metadata": {
    "colab": {
     "base_uri": "https://localhost:8080/",
     "height": 129
    },
    "executionInfo": {
     "elapsed": 445,
     "status": "ok",
     "timestamp": 1606803599709,
     "user": {
      "displayName": "Gavin Debrun",
      "photoUrl": "",
      "userId": "16932255542580517286"
     },
     "user_tz": 360
    },
    "id": "Ee6JIiztiEc3",
    "outputId": "dc9a1056-ecf5-4d68-e7d7-788546c445fb"
   },
   "outputs": [
    {
     "name": "stdout",
     "output_type": "stream",
     "text": [
      "(0.7071067811865476+0j) | 0 >\n",
      "(0.7071067811865475+0j) | 1 >\n"
     ]
    },
    {
     "data": {
      "image/png": "[encoded data removed]",
      "text/plain": [
       "<Figure size 133.526x84.28 with 1 Axes>"
      ]
     },
     "execution_count": 109,
     "metadata": {
      "tags": []
     },
     "output_type": "execute_result"
    }
   ],
   "source": [
    "qc = QuantumCircuit(quantumWires)\n",
    "qc.h(0)\n",
    "\n",
    "results=RunMeState(qc)\n",
    "StateToBinary(results.get_statevector())\n",
    "qc.draw(output='mpl')"
   ]
  },
  {
   "cell_type": "code",
   "execution_count": null,
   "metadata": {
    "colab": {
     "base_uri": "https://localhost:8080/",
     "height": 140
    },
    "executionInfo": {
     "elapsed": 463,
     "status": "ok",
     "timestamp": 1606803715102,
     "user": {
      "displayName": "Gavin Debrun",
      "photoUrl": "",
      "userId": "16932255542580517286"
     },
     "user_tz": 360
    },
    "id": "nnIgKA-diEc3",
    "outputId": "92a8ac03-4137-4fba-804f-a0e1de59c761"
   },
   "outputs": [
    {
     "data": {
      "image/png": "[encoded data removed]",
      "text/plain": [
       "<Figure size 193.726x144.48 with 1 Axes>"
      ]
     },
     "execution_count": 110,
     "metadata": {
      "tags": []
     },
     "output_type": "execute_result"
    }
   ],
   "source": [
    "qc=QuantumCircuit(1,1)\n",
    "qc.h(0)\n",
    "qc.measure([0],[0])\n",
    "qc.draw(output='mpl')\n",
    "qc.cnot"
   ]
  },
  {
   "cell_type": "code",
   "execution_count": null,
   "metadata": {
    "colab": {
     "base_uri": "https://localhost:8080/",
     "height": 325
    },
    "executionInfo": {
     "elapsed": 310,
     "status": "ok",
     "timestamp": 1606803777142,
     "user": {
      "displayName": "Gavin Debrun",
      "photoUrl": "",
      "userId": "16932255542580517286"
     },
     "user_tz": 360
    },
    "id": "YEcDLSRviEc3",
    "outputId": "5cc3bf51-440f-48d8-8ad7-ac1ddc41855f"
   },
   "outputs": [
    {
     "data": {
      "image/png": "[encoded data removed]",
      "text/plain": [
       "<Figure size 504x360 with 1 Axes>"
      ]
     },
     "execution_count": 113,
     "metadata": {
      "tags": []
     },
     "output_type": "execute_result"
    }
   ],
   "source": [
    "results=RunMe(qc)\n",
    "plot_histogram(results.get_counts())"
   ]
  },
  {
   "cell_type": "code",
   "execution_count": null,
   "metadata": {
    "colab": {
     "base_uri": "https://localhost:8080/",
     "height": 323
    },
    "executionInfo": {
     "elapsed": 308,
     "status": "ok",
     "timestamp": 1606803782628,
     "user": {
      "displayName": "Gavin Debrun",
      "photoUrl": "",
      "userId": "16932255542580517286"
     },
     "user_tz": 360
    },
    "id": "FPQRpolviEc3",
    "outputId": "6de3efd5-f748-4dc7-f1b4-7e005a6f5faf"
   },
   "outputs": [
    {
     "data": {
      "image/png": "[encoded data removed]",
      "text/plain": [
       "<Figure size 504x360 with 1 Axes>"
      ]
     },
     "execution_count": 114,
     "metadata": {
      "tags": []
     },
     "output_type": "execute_result"
    }
   ],
   "source": [
    "qc = QuantumCircuit(1,1)\n",
    "qc.x(0)\n",
    "qc.measure([0],[0])\n",
    "results = RunMe(qc)\n",
    "plot_histogram(results.get_counts())"
   ]
  },
  {
   "cell_type": "markdown",
   "metadata": {
    "id": "VtnACP5diEc3"
   },
   "source": [
    "You should see that the circuit with the \"hadamard\" gates gives half $|0\\rangle$ and half $|1\\rangle$ whereas the \"not\" gate always gives $|1\\rangle$"
   ]
  },
  {
   "cell_type": "code",
   "execution_count": null,
   "metadata": {
    "colab": {
     "base_uri": "https://localhost:8080/",
     "height": 140
    },
    "executionInfo": {
     "elapsed": 428,
     "status": "ok",
     "timestamp": 1606802381512,
     "user": {
      "displayName": "Gavin Debrun",
      "photoUrl": "",
      "userId": "16932255542580517286"
     },
     "user_tz": 360
    },
    "id": "wQlOpLOuiEc3",
    "outputId": "91bcd5c4-2321-414b-ad61-7ef819ee7a46"
   },
   "outputs": [
    {
     "data": {
      "image/png": "[encoded data removed]",
      "text/plain": [
       "<Figure size 193.726x144.48 with 1 Axes>"
      ]
     },
     "execution_count": 89,
     "metadata": {
      "tags": []
     },
     "output_type": "execute_result"
    }
   ],
   "source": [
    "qc = QuantumCircuit(1,1)\n",
    "qc.rx(-2*.5,0)\n",
    "qc.measure([0],[0])\n",
    "results = RunMe(qc)\n",
    "qc.draw(output='mpl')"
   ]
  },
  {
   "cell_type": "code",
   "execution_count": null,
   "metadata": {
    "colab": {
     "base_uri": "https://localhost:8080/",
     "height": 323
    },
    "executionInfo": {
     "elapsed": 282,
     "status": "ok",
     "timestamp": 1606802385702,
     "user": {
      "displayName": "Gavin Debrun",
      "photoUrl": "",
      "userId": "16932255542580517286"
     },
     "user_tz": 360
    },
    "id": "SY0mLcsg2qEe",
    "outputId": "8b69a645-1dc8-49f3-b40e-55adb29a0dd4"
   },
   "outputs": [
    {
     "data": {
      "image/png": "[encoded data removed]",
      "text/plain": [
       "<Figure size 504x360 with 1 Axes>"
      ]
     },
     "execution_count": 90,
     "metadata": {
      "tags": []
     },
     "output_type": "execute_result"
    }
   ],
   "source": [
    "plot_histogram(results.get_counts())"
   ]
  },
  {
   "cell_type": "code",
   "execution_count": null,
   "metadata": {
    "colab": {
     "base_uri": "https://localhost:8080/",
     "height": 295
    },
    "executionInfo": {
     "elapsed": 3276,
     "status": "ok",
     "timestamp": 1606802681395,
     "user": {
      "displayName": "Gavin Debrun",
      "photoUrl": "",
      "userId": "16932255542580517286"
     },
     "user_tz": 360
    },
    "id": "XiWXxqHYiEc3",
    "outputId": "096312be-69b1-4344-909f-fa72c4d24e84"
   },
   "outputs": [
    {
     "data": {
      "image/png": "[encoded data removed]",
      "text/plain": [
       "<Figure size 432x288 with 1 Axes>"
      ]
     },
     "metadata": {
      "needs_background": "light",
      "tags": []
     },
     "output_type": "display_data"
    }
   ],
   "source": [
    "myData=[]\n",
    "thetas=np.arange(0,np.pi,0.01)\n",
    "for theta in thetas:\n",
    "  qc = QuantumCircuit(1,1)\n",
    "  qc.rx(-2*theta, 0)\n",
    "  qc.measure([0],[0])\n",
    "  results = RunMe(qc)\n",
    "  \n",
    "  if '0' in results.get_counts():\n",
    "    myData.append(results.get_counts()['0'])\n",
    "  else:\n",
    "    myData.append(0)\n",
    "plt.plot(thetas,1024*np.cos(thetas)**2,'.')\n",
    "plt.plot(thetas,myData)\n",
    "plt.xlabel(\"theta (radians)\")\n",
    "plt.ylabel(\"probability of measuring a 0\")\n",
    "plt.title('probability of measuring a 0 for varying thetas in rx gate')\n",
    "plt.show()"
   ]
  },
  {
   "cell_type": "markdown",
   "metadata": {
    "id": "KZLozcmoiEc3"
   },
   "source": [
    "## Two qubits"
   ]
  },
  {
   "cell_type": "markdown",
   "metadata": {
    "id": "ZYNIqUxtiEc3"
   },
   "source": [
    "### a. Control-not gates"
   ]
  },
  {
   "cell_type": "code",
   "execution_count": null,
   "metadata": {
    "colab": {
     "base_uri": "https://localhost:8080/",
     "height": 202
    },
    "executionInfo": {
     "elapsed": 452,
     "status": "ok",
     "timestamp": 1606803312818,
     "user": {
      "displayName": "Gavin Debrun",
      "photoUrl": "",
      "userId": "16932255542580517286"
     },
     "user_tz": 360
    },
    "id": "KX9DfgFSiEc3",
    "outputId": "1c1f3669-46e0-42bd-d98f-0cdc8e14dd03"
   },
   "outputs": [
    {
     "name": "stdout",
     "output_type": "stream",
     "text": [
      "(1+0j) | 00 >\n"
     ]
    },
    {
     "data": {
      "image/png": "[encoded data removed]",
      "text/plain": [
       "<Figure size 146.652x204.68 with 1 Axes>"
      ]
     },
     "execution_count": 104,
     "metadata": {
      "tags": []
     },
     "output_type": "execute_result"
    }
   ],
   "source": [
    "qc = QuantumCircuit(2,2)\n",
    "qc.cx(0,1)\n",
    "results=RunMeState(qc)\n",
    "StateToBinary(results.get_statevector())\n",
    "qc.draw(output='mpl')"
   ]
  },
  {
   "cell_type": "code",
   "execution_count": null,
   "metadata": {
    "colab": {
     "base_uri": "https://localhost:8080/",
     "height": 202
    },
    "executionInfo": {
     "elapsed": 450,
     "status": "ok",
     "timestamp": 1606804528593,
     "user": {
      "displayName": "Gavin Debrun",
      "photoUrl": "",
      "userId": "16932255542580517286"
     },
     "user_tz": 360
    },
    "id": "Nip7AzWxiEc3",
    "outputId": "12837f86-c404-4d27-8ac9-9707523d8f5f"
   },
   "outputs": [
    {
     "name": "stdout",
     "output_type": "stream",
     "text": [
      "(1+0j) | 11 >\n"
     ]
    },
    {
     "data": {
      "image/png": "[encoded data removed]",
      "text/plain": [
       "<Figure size 206.852x204.68 with 1 Axes>"
      ]
     },
     "execution_count": 115,
     "metadata": {
      "tags": []
     },
     "output_type": "execute_result"
    }
   ],
   "source": [
    "c = QuantumCircuit(2,2)\n",
    "qc.x(0)\n",
    "qc.cx(0,1)\n",
    "results=RunMeState(qc)\n",
    "StateToBinary(results.get_statevector())\n",
    "qc.draw(output='mpl')"
   ]
  },
  {
   "cell_type": "markdown",
   "metadata": {
    "id": "sKZMR5jdiEc3"
   },
   "source": [
    "### b.  Build an EPR Pair"
   ]
  },
  {
   "cell_type": "code",
   "execution_count": null,
   "metadata": {
    "colab": {
     "base_uri": "https://localhost:8080/",
     "height": 219
    },
    "executionInfo": {
     "elapsed": 594,
     "status": "ok",
     "timestamp": 1606805365390,
     "user": {
      "displayName": "Gavin Debrun",
      "photoUrl": "",
      "userId": "16932255542580517286"
     },
     "user_tz": 360
    },
    "id": "jP843PfHiEc3",
    "outputId": "5e5f634e-fd43-41a2-ec74-16b9277b5bb4"
   },
   "outputs": [
    {
     "name": "stdout",
     "output_type": "stream",
     "text": [
      "(0.7071067811865476+0j) | 00 >\n",
      "(0.7071067811865475+0j) | 11 >\n"
     ]
    },
    {
     "data": {
      "image/png": "[encoded data removed]",
      "text/plain": [
       "<Figure size 267.052x204.68 with 1 Axes>"
      ]
     },
     "execution_count": 123,
     "metadata": {
      "tags": []
     },
     "output_type": "execute_result"
    }
   ],
   "source": [
    "qc = QuantumCircuit(2,2)\n",
    "qc.h(0)\n",
    "qc.x(0)\n",
    "qc.cx(0,1)\n",
    "\n",
    "results=RunMeState(qc)\n",
    "StateToBinary(results.get_statevector())\n",
    "qc.draw(output='mpl')"
   ]
  },
  {
   "cell_type": "markdown",
   "metadata": {
    "id": "zT94L9VliEc3"
   },
   "source": [
    "### c. Measuring EPR Pairs"
   ]
  },
  {
   "cell_type": "code",
   "execution_count": null,
   "metadata": {
    "colab": {
     "base_uri": "https://localhost:8080/",
     "height": 371
    },
    "executionInfo": {
     "elapsed": 277,
     "status": "ok",
     "timestamp": 1606805831152,
     "user": {
      "displayName": "Gavin Debrun",
      "photoUrl": "",
      "userId": "16932255542580517286"
     },
     "user_tz": 360
    },
    "id": "mAfYVlMQiEc3",
    "outputId": "7df874fc-d1b0-4589-c159-f784ae80ec44"
   },
   "outputs": [
    {
     "name": "stdout",
     "output_type": "stream",
     "text": [
      "(0.7071067811865476+0j) | 00 >\n",
      "(0.7071067811865475+0j) | 11 >\n"
     ]
    },
    {
     "data": {
      "image/png": "[encoded data removed]",
      "text/plain": [
       "<Figure size 504x360 with 1 Axes>"
      ]
     },
     "execution_count": 127,
     "metadata": {
      "tags": []
     },
     "output_type": "execute_result"
    }
   ],
   "source": [
    "qc = QuantumCircuit(2,2)\n",
    "qc.h(0)\n",
    "qc.x(0)\n",
    "qc.cx(0,1)\n",
    "qc.measure(0,0)\n",
    "qc.measure(1,1)\n",
    "results=RunMeState(qc)\n",
    "StateToBinary(results.get_statevector())\n",
    "plot_histogram(results.get_counts())"
   ]
  },
  {
   "cell_type": "markdown",
   "metadata": {
    "id": "MMuwl_QciEc3"
   },
   "source": [
    "### d. Running on an actual Quantum Computer"
   ]
  },
  {
   "cell_type": "code",
   "execution_count": null,
   "metadata": {
    "id": "_dbx5ciViEc3"
   },
   "outputs": [],
   "source": [
    "qc = QuantumCircuit(2,2)\n",
    "qc.h(0)\n",
    "qc.x(0)\n",
    "qc.cx(0,1)\n",
    "qc.measure(0,0)\n",
    "qc.measure(1,1)\n",
    "job = RunMeQC(qc)"
   ]
  },
  {
   "cell_type": "code",
   "execution_count": null,
   "metadata": {
    "colab": {
     "base_uri": "https://localhost:8080/",
     "height": 198
    },
    "executionInfo": {
     "elapsed": 475,
     "status": "error",
     "timestamp": 1606871700329,
     "user": {
      "displayName": "Gavin Debrun",
      "photoUrl": "",
      "userId": "16932255542580517286"
     },
     "user_tz": 360
    },
    "id": "yVfbQnC1iEc3",
    "outputId": "14b03ca4-ba2b-47d1-929d-d01e282384a5"
   },
   "outputs": [
    {
     "ename": "NameError",
     "evalue": "ignored",
     "output_type": "error",
     "traceback": [
      "\u001b[0;31m---------------------------------------------------------------------------\u001b[0m",
      "\u001b[0;31mNameError\u001b[0m                                 Traceback (most recent call last)",
      "\u001b[0;32m<ipython-input-1-65f79cff0a90>\u001b[0m in \u001b[0;36m<module>\u001b[0;34m()\u001b[0m\n\u001b[0;32m----> 1\u001b[0;31m \u001b[0mprint\u001b[0m\u001b[0;34m(\u001b[0m\u001b[0mjob\u001b[0m\u001b[0;34m.\u001b[0m\u001b[0mstatus\u001b[0m\u001b[0;34m(\u001b[0m\u001b[0;34m)\u001b[0m\u001b[0;34m)\u001b[0m\u001b[0;34m\u001b[0m\u001b[0;34m\u001b[0m\u001b[0m\n\u001b[0m\u001b[1;32m      2\u001b[0m \u001b[0mprint\u001b[0m\u001b[0;34m(\u001b[0m\u001b[0mjob\u001b[0m\u001b[0;34m.\u001b[0m\u001b[0mqueue_position\u001b[0m\u001b[0;34m(\u001b[0m\u001b[0;34m)\u001b[0m\u001b[0;34m)\u001b[0m\u001b[0;34m\u001b[0m\u001b[0;34m\u001b[0m\u001b[0m\n\u001b[1;32m      3\u001b[0m \u001b[0msaveJob\u001b[0m\u001b[0;34m(\u001b[0m\u001b[0mjob\u001b[0m\u001b[0;34m)\u001b[0m\u001b[0;34m\u001b[0m\u001b[0;34m\u001b[0m\u001b[0m\n",
      "\u001b[0;31mNameError\u001b[0m: name 'job' is not defined"
     ]
    }
   ],
   "source": [
    "print(job.status())\n",
    "print(job.queue_position())\n",
    "saveJob(job)"
   ]
  },
  {
   "cell_type": "code",
   "execution_count": null,
   "metadata": {
    "colab": {
     "base_uri": "https://localhost:8080/",
     "height": 348
    },
    "executionInfo": {
     "elapsed": 1573,
     "status": "ok",
     "timestamp": 1606958088455,
     "user": {
      "displayName": "Gavin Debrun",
      "photoUrl": "",
      "userId": "16932255542580517286"
     },
     "user_tz": 360
    },
    "id": "gW8fnp0ViEc4",
    "outputId": "80ec0089-44d9-403f-accd-c987d36837c1"
   },
   "outputs": [
    {
     "name": "stdout",
     "output_type": "stream",
     "text": [
      "JobStatus.DONE\n"
     ]
    },
    {
     "data": {
      "image/png": "[encoded data removed]",
      "text/plain": [
       "<Figure size 504x360 with 1 Axes>"
      ]
     },
     "execution_count": 12,
     "metadata": {
      "tags": []
     },
     "output_type": "execute_result"
    }
   ],
   "source": [
    "job = loadJob('5fc5eb02e15c3b00192d5824','ibmq_santiago')\n",
    "#print(job.status())\n",
    "plot_histogram(job.result().get_counts())"
   ]
  },
  {
   "cell_type": "markdown",
   "metadata": {
    "id": "kMS2-O9BiEc4"
   },
   "source": [
    "### e. Entanglement "
   ]
  },
  {
   "cell_type": "code",
   "execution_count": null,
   "metadata": {
    "colab": {
     "base_uri": "https://localhost:8080/",
     "height": 236
    },
    "executionInfo": {
     "elapsed": 1661,
     "status": "ok",
     "timestamp": 1606959974266,
     "user": {
      "displayName": "Gavin Debrun",
      "photoUrl": "",
      "userId": "16932255542580517286"
     },
     "user_tz": 360
    },
    "id": "gtiNM9ixiEc4",
    "outputId": "3795ca51-67c3-417f-abf2-e874842c07e3"
   },
   "outputs": [
    {
     "name": "stdout",
     "output_type": "stream",
     "text": [
      "For EPR the probability difference is: 0.23150634765625\n",
      "The EPR pair is entangled\n",
      "\n"
     ]
    },
    {
     "data": {
      "image/png": "[encoded data removed]",
      "text/plain": [
       "<Figure size 267.052x204.68 with 1 Axes>"
      ]
     },
     "execution_count": 51,
     "metadata": {
      "tags": []
     },
     "output_type": "execute_result"
    }
   ],
   "source": [
    "\n",
    "def wire_i_probability(myCounts,wire):\n",
    "    zeroProb=0.0\n",
    "    if wire==0:\n",
    "        if \"00\" in myCounts:\n",
    "          zeroProb += myCounts[\"00\"]\n",
    "        if \"01\" in myCounts:\n",
    "          zeroProb += myCounts[\"01\"]\n",
    "    elif wire==1:\n",
    "        if \"00\" in myCounts:\n",
    "          zeroProb += myCounts[\"00\"]\n",
    "        if \"10\" in myCounts:\n",
    "          zeroProb += myCounts[\"10\"]\n",
    "    return zeroProb/1024. #1024 because RunMe() defaults to 1024\n",
    "\n",
    "def wires_probability(myCounts):\n",
    "  if \"00\" in myCounts:\n",
    "    return myCounts[\"00\"]/1024\n",
    "\n",
    "def areEntangled(myCounts, type):\n",
    "  probabilityDifference = np.abs(wires_probability(myCounts) - wire_i_probability(myCounts, 0) * wire_i_probability(myCounts, 1))\n",
    "  print(\"For \" + type, \"the probability difference is:\", probabilityDifference)\n",
    "\n",
    "  if  probabilityDifference > .01:\n",
    "    return True\n",
    "  else:\n",
    "    return False\n",
    "\n",
    "#Using the actual quantum computer results for the EPR pair\n",
    "EPR = loadJob('5fc5eb02e15c3b00192d5824','ibmq_santiago')\n",
    "\n",
    "if (areEntangled(EPR.result().get_counts(), \"EPR\")):\n",
    "  print(\"The EPR pair is entangled\")\n",
    "else:\n",
    "  print(\"The EPR pair is not entangled\")\n",
    "\n",
    "#just building the ciruit again to print it\n",
    "qc = QuantumCircuit(2,2)\n",
    "qc.h(0)\n",
    "qc.x(0)\n",
    "qc.cx(0,1)\n",
    "print()\n",
    "qc.draw(output='mpl')"
   ]
  },
  {
   "cell_type": "code",
   "execution_count": null,
   "metadata": {
    "colab": {
     "base_uri": "https://localhost:8080/",
     "height": 236
    },
    "executionInfo": {
     "elapsed": 706,
     "status": "ok",
     "timestamp": 1606960066519,
     "user": {
      "displayName": "Gavin Debrun",
      "photoUrl": "",
      "userId": "16932255542580517286"
     },
     "user_tz": 360
    },
    "id": "n66gvC7CiEc4",
    "outputId": "4a91bc08-5297-4abb-abc2-7585dabff57e"
   },
   "outputs": [
    {
     "name": "stdout",
     "output_type": "stream",
     "text": [
      "For hadamard and not gates on one wire the probability difference is: 0.0009756088256835938\n",
      "The hadamard and not combination does not produce an entangled pair of qubits\n",
      "\n"
     ]
    },
    {
     "data": {
      "image/png": "[encoded data removed]",
      "text/plain": [
       "<Figure size 206.852x204.68 with 1 Axes>"
      ]
     },
     "execution_count": 58,
     "metadata": {
      "tags": []
     },
     "output_type": "execute_result"
    }
   ],
   "source": [
    "qc = QuantumCircuit(2,2)\n",
    "qc.h(0)\n",
    "qc.x(0)\n",
    "results=RunMeState(qc)\n",
    "if areEntangled(results.get_counts(), \"hadamard and not gates on one wire\"):\n",
    "  print(\"The hadamard and not comibation produces an entangled pair of qubits\")\n",
    "else:\n",
    "  print(\"The hadamard and not combination does not produce an entangled pair of qubits\")\n",
    "print()\n",
    "qc.draw(output='mpl')"
   ]
  },
  {
   "cell_type": "markdown",
   "metadata": {
    "id": "1NizIy8QiEc4"
   },
   "source": [
    "## Quantum Key Distribution"
   ]
  },
  {
   "cell_type": "markdown",
   "metadata": {
    "id": "WzdXUB6XiEc4"
   },
   "source": [
    "### a. One time pads"
   ]
  },
  {
   "cell_type": "code",
   "execution_count": null,
   "metadata": {
    "colab": {
     "base_uri": "https://localhost:8080/",
     "height": 185
    },
    "executionInfo": {
     "elapsed": 917,
     "status": "ok",
     "timestamp": 1607017413844,
     "user": {
      "displayName": "Gavin Debrun",
      "photoUrl": "",
      "userId": "16932255542580517286"
     },
     "user_tz": 360
    },
    "id": "2P7lG2yyiEc4",
    "outputId": "80bc021c-2a06-4c13-b3ea-2fac60b611f1"
   },
   "outputs": [
    {
     "data": {
      "image/png": "[encoded data removed]",
      "text/plain": [
       "<Figure size 267.052x204.68 with 1 Axes>"
      ]
     },
     "execution_count": 4,
     "metadata": {
      "tags": []
     },
     "output_type": "execute_result"
    }
   ],
   "source": [
    "\n",
    "\n",
    "def MakeSinglet(qc):\n",
    "    aliceWire=0\n",
    "    bobWire=1\n",
    "    qc.h(aliceWire)\n",
    "    qc.cx(aliceWire,bobWire)\n",
    "\n",
    "def MakeSharedState(qc):\n",
    "    MakeSinglet(qc)\n",
    "    qc.barrier()\n",
    "    return qc\n",
    "\n",
    "qc=QuantumCircuit(2,2)\n",
    "qc=MakeSharedState(qc)\n",
    "qc.draw(output='mpl')"
   ]
  },
  {
   "cell_type": "code",
   "execution_count": null,
   "metadata": {
    "colab": {
     "base_uri": "https://localhost:8080/",
     "height": 185
    },
    "executionInfo": {
     "elapsed": 450,
     "status": "ok",
     "timestamp": 1607017509966,
     "user": {
      "displayName": "Gavin Debrun",
      "photoUrl": "",
      "userId": "16932255542580517286"
     },
     "user_tz": 360
    },
    "id": "4TXO8gQhiEc4",
    "outputId": "9d7e7ea4-ca5e-4f91-85b2-c516dfeddcde"
   },
   "outputs": [
    {
     "data": {
      "image/png": "[encoded data removed]",
      "text/plain": [
       "<Figure size 267.052x204.68 with 1 Axes>"
      ]
     },
     "execution_count": 5,
     "metadata": {
      "tags": []
     },
     "output_type": "execute_result"
    }
   ],
   "source": [
    "qc = QuantumCircuit(2,2)\n",
    "qc.x(1)\n",
    "qc.measure([0,1],[0,1])\n",
    "qc.draw(output='mpl')\n"
   ]
  },
  {
   "cell_type": "code",
   "execution_count": null,
   "metadata": {
    "colab": {
     "base_uri": "https://localhost:8080/"
    },
    "executionInfo": {
     "elapsed": 567,
     "status": "ok",
     "timestamp": 1607017518389,
     "user": {
      "displayName": "Gavin Debrun",
      "photoUrl": "",
      "userId": "16932255542580517286"
     },
     "user_tz": 360
    },
    "id": "BDW_tLiniEc4",
    "outputId": "56760c0e-04d8-42a1-fe06-89474b128527"
   },
   "outputs": [
    {
     "name": "stdout",
     "output_type": "stream",
     "text": [
      "the key output is = 10\n",
      "q0 state is 0 and q1 state is 1\n"
     ]
    }
   ],
   "source": [
    "result = RunMe(qc,1)\n",
    "theKey=list(result.get_counts().keys())[0]\n",
    "print(\"the key output is =\",theKey)\n",
    "q0 = theKey[-1]\n",
    "q1 = theKey[-2]\n",
    "### OR:\n",
    "### q1,q0 = theKey\n",
    "print(\"q0 state is\",q0,\"and q1 state is\",q1)"
   ]
  },
  {
   "cell_type": "code",
   "execution_count": null,
   "metadata": {
    "colab": {
     "base_uri": "https://localhost:8080/"
    },
    "executionInfo": {
     "elapsed": 1061,
     "status": "ok",
     "timestamp": 1607018698997,
     "user": {
      "displayName": "Gavin Debrun",
      "photoUrl": "",
      "userId": "16932255542580517286"
     },
     "user_tz": 360
    },
    "id": "L3okVFiiiEc5",
    "outputId": "048d0964-4a9e-44ab-a5d5-3abb6d9fcb2f"
   },
   "outputs": [
    {
     "name": "stdout",
     "output_type": "stream",
     "text": [
      "They agree this fraction of the time: 1.0\n"
     ]
    }
   ],
   "source": [
    "aliceBits=[]\n",
    "bobBits=[]\n",
    "\n",
    "qc=QuantumCircuit(2,2)\n",
    "qc=MakeSharedState(qc)\n",
    "\n",
    "qc.measure([0,1],[0,1])\n",
    "\n",
    "## After measurement how often do Alice and Bob's bits agree.\n",
    "num_agree = 0\n",
    "for i in range (100):\n",
    "  results = RunMe(qc,1)\n",
    "  theKey = list(results.get_counts().keys())[0]\n",
    "  aliceBits.append(theKey[-2])\n",
    "  bobBits.append(theKey[-1])\n",
    "  if theKey[-1] == theKey[-2]:\n",
    "    num_agree += 1\n",
    "print(\"They agree this fraction of the time:\", num_agree/100) #fill this \n"
   ]
  },
  {
   "cell_type": "markdown",
   "metadata": {
    "id": "S46PTQ6iiEc5"
   },
   "source": [
    "### b. Eve's arrival"
   ]
  },
  {
   "cell_type": "code",
   "execution_count": null,
   "metadata": {
    "colab": {
     "base_uri": "https://localhost:8080/",
     "height": 265
    },
    "executionInfo": {
     "elapsed": 1267,
     "status": "ok",
     "timestamp": 1607021305116,
     "user": {
      "displayName": "Gavin Debrun",
      "photoUrl": "",
      "userId": "16932255542580517286"
     },
     "user_tz": 360
    },
    "id": "b0ytsA4TiEc5",
    "outputId": "9380556b-9dbc-47f0-9d4b-3f2fbc3e996a"
   },
   "outputs": [
    {
     "name": "stdout",
     "output_type": "stream",
     "text": [
      "Alice and Bob agree this fraction of the time: 1.0\n",
      "Alice and Eve agree this fraction of the time: 1.0\n"
     ]
    },
    {
     "data": {
      "image/png": "[encoded data removed]",
      "text/plain": [
       "<Figure size 447.797x264.88 with 1 Axes>"
      ]
     },
     "execution_count": 93,
     "metadata": {
      "tags": []
     },
     "output_type": "execute_result"
    }
   ],
   "source": [
    "\n",
    "AliceBits=[]\n",
    "EveBits=[]\n",
    "BobBits=[]\n",
    "eveWire=2\n",
    "qc=QuantumCircuit(3,3)\n",
    "qc=MakeSharedState(qc)\n",
    "###What can Eve do here so that she knows the secret bit and can't be detected by Alice and Bob\n",
    "qc.measure(0,2)\n",
    "### Eve is done now. \n",
    "qc.measure([0,1],[0,1])  #this is your measure from earlier. \n",
    "\n",
    "###How often do Alice and Bob's bits agree.\n",
    "### How often do Alice and Eve's bits agree.\n",
    "bob_alice = 0\n",
    "alice_eve = 0\n",
    "for i in range(100):\n",
    "  results = RunMe(qc,1)\n",
    "  theKey = list(results.get_counts().keys())[0]\n",
    "  AliceBits.append(theKey[-3])\n",
    "  BobBits.append(theKey[-2])\n",
    "  EveBits.append(theKey[-1])\n",
    "  if theKey[-3] == theKey[-2]:\n",
    "    bob_alice += 1\n",
    "  if theKey[-3] == theKey[-1]:\n",
    "    alice_eve += 1\n",
    "print(\"Alice and Bob agree this fraction of the time:\", bob_alice/100)\n",
    "print(\"Alice and Eve agree this fraction of the time:\", alice_eve/100)\n",
    "qc.draw(output='mpl')"
   ]
  },
  {
   "cell_type": "markdown",
   "metadata": {
    "id": "6KgjAEK2iEc5"
   },
   "source": [
    "### c. An improved protocol"
   ]
  },
  {
   "cell_type": "code",
   "execution_count": null,
   "metadata": {
    "colab": {
     "base_uri": "https://localhost:8080/",
     "height": 248
    },
    "executionInfo": {
     "elapsed": 1294,
     "status": "ok",
     "timestamp": 1607023483092,
     "user": {
      "displayName": "Gavin Debrun",
      "photoUrl": "",
      "userId": "16932255542580517286"
     },
     "user_tz": 360
    },
    "id": "25CKGZDliEc5",
    "outputId": "e0e2eecb-7ca1-4bc8-aab9-1c34ff6920b7"
   },
   "outputs": [
    {
     "name": "stdout",
     "output_type": "stream",
     "text": [
      "Alice and Bob agree this fraction of the time: 0.4\n"
     ]
    },
    {
     "data": {
      "image/png": "[encoded data removed]",
      "text/plain": [
       "<Figure size 387.597x264.88 with 1 Axes>"
      ]
     },
     "execution_count": 132,
     "metadata": {
      "tags": []
     },
     "output_type": "execute_result"
    }
   ],
   "source": [
    "aliceBits = []\n",
    "bobBits = []\n",
    "num_agree = 0\n",
    "hadamard = np.zeros(100)\n",
    "for i in range(100):\n",
    "  qc = QuantumCircuit(3,3)\n",
    "  qc = MakeSharedState(qc)\n",
    "  coin_flip = np.random.random()\n",
    "  if coin_flip > .5:\n",
    "    hadamard[i] = 1\n",
    "    qc.h(0)\n",
    "    qc.h(1)\n",
    "  qc.measure([0,1],[0,1])\n",
    "  results = RunMe(qc,1)\n",
    "  theKey = list(results.get_counts().keys())[0]\n",
    "  aliceBits.append(theKey[-3])\n",
    "  bobBits.append(theKey[-2])\n",
    "  if theKey[-3] == theKey[-2]:\n",
    "    num_agree += 1\n",
    "print(\"Alice and Bob agree this fraction of the time:\", num_agree/100)\n",
    "qc.draw(output='mpl')"
   ]
  },
  {
   "cell_type": "markdown",
   "metadata": {
    "id": "iifNmUAYiEc5"
   },
   "source": [
    "### d. Eve in the improved protocol"
   ]
  },
  {
   "cell_type": "code",
   "execution_count": null,
   "metadata": {
    "colab": {
     "base_uri": "https://localhost:8080/",
     "height": 282
    },
    "executionInfo": {
     "elapsed": 1732,
     "status": "ok",
     "timestamp": 1607023964354,
     "user": {
      "displayName": "Gavin Debrun",
      "photoUrl": "",
      "userId": "16932255542580517286"
     },
     "user_tz": 360
    },
    "id": "EFwiKvZ2iEc5",
    "outputId": "3e364c81-fed5-494f-c5d1-d65b1f5cc5c5"
   },
   "outputs": [
    {
     "name": "stdout",
     "output_type": "stream",
     "text": [
      "Alice and Bob agree this fraction of the time: 0.69\n",
      "Alice and Eve agree this fraction of the time: 0.67\n",
      "The bits sent when Hadamard gates were added are still viable.\n"
     ]
    },
    {
     "data": {
      "image/png": "[encoded data removed]",
      "text/plain": [
       "<Figure size 507.997x264.88 with 1 Axes>"
      ]
     },
     "execution_count": 141,
     "metadata": {
      "tags": []
     },
     "output_type": "execute_result"
    }
   ],
   "source": [
    "\n",
    "aliceBits = []\n",
    "bobBits = []\n",
    "eveBits = []\n",
    "alice_bob = 0\n",
    "alice_eve = 0\n",
    "hadamard = np.zeros(100)\n",
    "for i in range(100):\n",
    "  qc = QuantumCircuit(3,3)\n",
    "  qc = MakeSharedState(qc)\n",
    "  qc.measure(0,2)\n",
    "  coin_flip = np.random.random()\n",
    "  if coin_flip > .5:\n",
    "    hadamard[i] = 1\n",
    "    qc.h(0)\n",
    "    qc.h(1)\n",
    "  qc.measure([0,1],[0,1])\n",
    "  results = RunMe(qc,1)\n",
    "  theKey = list(results.get_counts().keys())[0]\n",
    "  aliceBits.append(theKey[-3])\n",
    "  bobBits.append(theKey[-2])\n",
    "  eveBits.append(theKey[-1])\n",
    "  if theKey[-3] == theKey[-2]:\n",
    "    alice_bob += 1\n",
    "  if theKey[-3] == theKey[-1]:\n",
    "    alice_eve += 1\n",
    "print(\"Alice and Bob agree this fraction of the time:\", alice_bob/100)\n",
    "print(\"Alice and Eve agree this fraction of the time:\", alice_eve/100)\n",
    "print(\"The bits sent when Hadamard gates were added are still viable.\")\n",
    "qc.draw(output='mpl')"
   ]
  },
  {
   "cell_type": "markdown",
   "metadata": {
    "id": "lGC33ZKgiEc5"
   },
   "source": [
    "### e.  Not flipping shared coins"
   ]
  },
  {
   "cell_type": "code",
   "execution_count": null,
   "metadata": {
    "colab": {
     "base_uri": "https://localhost:8080/"
    },
    "executionInfo": {
     "elapsed": 1383,
     "status": "ok",
     "timestamp": 1607031248790,
     "user": {
      "displayName": "Gavin Debrun",
      "photoUrl": "",
      "userId": "16932255542580517286"
     },
     "user_tz": 360
    },
    "id": "hqchJ12hiEc5",
    "outputId": "07e0f14f-d6c2-4fd8-f3c7-7d50f1582175"
   },
   "outputs": [
    {
     "name": "stdout",
     "output_type": "stream",
     "text": [
      "There was eavesdropping.\n",
      "When they made the same choice, they agreed this fraction of the time: 0.49019607843137253\n"
     ]
    }
   ],
   "source": [
    "\n",
    "## Now remove the cheating from the approach.  \n",
    "## This time, Alice and Bob are going to have to talk about both the decisions they made (Hadamard or not)\n",
    "## as well as what result they get\n",
    "aliceBits = []\n",
    "bobBits = []\n",
    "alice_hadamard = np.zeros(100)\n",
    "bob_hadamard = np.zeros(100)\n",
    "for i in range(100):\n",
    "  qc = QuantumCircuit(3,3)\n",
    "  qc = MakeSharedState(qc)\n",
    "  qc.measure(0,2)\n",
    "  alice_coin_flip = np.random.random()\n",
    "  if coin_flip > .5:\n",
    "    alice_hadamard[i] = 1\n",
    "    qc.h(0)\n",
    "  bob_coin_flip = np.random.random()\n",
    "  if bob_coin_flip > .5:\n",
    "    bob_hadamard[i] = 1\n",
    "    qc.h(1)\n",
    "  qc.measure([0,1],[0,1])\n",
    "  results = RunMe(qc,1)\n",
    "  theKey = list(results.get_counts().keys())[0]\n",
    "  aliceBits.append(theKey[-3])\n",
    "  bobBits.append(theKey[-2])\n",
    "\n",
    "num_agree_total = 0\n",
    "num_same_choice = 0\n",
    "num_agree_same_choice = 0\n",
    "for i in range(0, 100):\n",
    "  if alice_hadamard[i] == bob_hadamard[i]:\n",
    "    num_same_choice += 1\n",
    "    if aliceBits[i] == bobBits[i]:\n",
    "      num_agree_same_choice += 1\n",
    "  if aliceBits[i] == bobBits[i]:\n",
    "    num_agree_total += 1\n",
    "\n",
    "## How often do they agree if we only consider the cases when they made the same choice.\n",
    "if np.abs(num_agree_same_choice/num_same_choice - num_agree_total/100) > .1:\n",
    "  print(\"There was eavesdropping.\")\n",
    "else: \n",
    "  print(\"There was no eavesdropping\")\n",
    "  \n",
    "print(\"When they made the same choice, they agreed this fraction of the time:\", num_agree_same_choice/num_same_choice)\n",
    "#print(num_agree_total/100)"
   ]
  },
  {
   "cell_type": "markdown",
   "metadata": {
    "id": "-pzZ4PgTiEc5"
   },
   "source": [
    "**Q:** Compare your results to when eve is listening vs not. How can you tell if there's an eavesdropper and still have non-shared random bits left?"
   ]
  },
  {
   "cell_type": "markdown",
   "metadata": {
    "id": "_38xVcuuiEc5"
   },
   "source": [
    "**A:** When eve is listening, the total number of qubits agreed upon by Alice and Bob is substantially greater than 50%. Whereas, when she is not, the total number agreed upon is very close to 50%. Regardless of whether Eve is listening, the number of qubits agreed upon when both Alice and Bob made the same decision to either add a Hadamard gate or to not will be close to 50%. Thus, if there is a significant discrepancy between the number agreed upon when they made the same decision versus the number agreed upon through all qubit transmissions, we can determine that there was eavesdropping."
   ]
  },
  {
   "cell_type": "markdown",
   "metadata": {
    "id": "2DsNit4JiEc5"
   },
   "source": [
    "## Building up tools"
   ]
  },
  {
   "cell_type": "markdown",
   "metadata": {
    "id": "-HIZQkFgiEc5"
   },
   "source": [
    "### a. Initializing a binary number"
   ]
  },
  {
   "cell_type": "code",
   "execution_count": null,
   "metadata": {
    "colab": {
     "base_uri": "https://localhost:8080/",
     "height": 231
    },
    "executionInfo": {
     "elapsed": 702,
     "status": "ok",
     "timestamp": 1607031653359,
     "user": {
      "displayName": "Gavin Debrun",
      "photoUrl": "",
      "userId": "16932255542580517286"
     },
     "user_tz": 360
    },
    "id": "1mx8GpgeiEc5",
    "outputId": "95bc876f-a955-419c-9110-494937713097"
   },
   "outputs": [
    {
     "data": {
      "image/png": "[encoded data removed]",
      "text/plain": [
       "<Figure size 146.797x264.88 with 1 Axes>"
      ]
     },
     "execution_count": 185,
     "metadata": {
      "tags": []
     },
     "output_type": "execute_result"
    }
   ],
   "source": [
    "def Init(qc, state = '000'):\n",
    "  for i in range(len(state)):\n",
    "    if state[i] == '1':\n",
    "      qc.x(i)\n",
    "\n",
    "qc=QuantumCircuit(3,3)\n",
    "Init(qc,'011')\n",
    "qc.draw(output='mpl')"
   ]
  },
  {
   "cell_type": "markdown",
   "metadata": {
    "id": "ZHClyG0BiEc5"
   },
   "source": [
    "### b. A sum over all states"
   ]
  },
  {
   "cell_type": "code",
   "execution_count": null,
   "metadata": {
    "colab": {
     "base_uri": "https://localhost:8080/",
     "height": 322
    },
    "executionInfo": {
     "elapsed": 827,
     "status": "ok",
     "timestamp": 1607032392612,
     "user": {
      "displayName": "Gavin Debrun",
      "photoUrl": "",
      "userId": "16932255542580517286"
     },
     "user_tz": 360
    },
    "id": "gw-qwhx2iEc5",
    "outputId": "6a18ebc3-434f-4473-a959-782363e6f832"
   },
   "outputs": [
    {
     "data": {
      "image/png": "[encoded data removed]",
      "text/plain": [
       "<Figure size 447.797x385.28 with 1 Axes>"
      ]
     },
     "execution_count": 186,
     "metadata": {
      "tags": []
     },
     "output_type": "execute_result"
    }
   ],
   "source": [
    "def AllSum(qc, w):\n",
    "  for i in range(w):\n",
    "    qc.h(i)\n",
    "\n",
    "\n",
    "w = 5\n",
    "qc=QuantumCircuit(w,w)\n",
    "AllSum(qc,w)\n",
    "qc.measure(range(w),range(w))\n",
    "\n",
    "qc.draw(output='mpl')\n"
   ]
  },
  {
   "cell_type": "code",
   "execution_count": null,
   "metadata": {
    "colab": {
     "base_uri": "https://localhost:8080/",
     "height": 356
    },
    "executionInfo": {
     "elapsed": 2054,
     "status": "ok",
     "timestamp": 1607032586727,
     "user": {
      "displayName": "Gavin Debrun",
      "photoUrl": "",
      "userId": "16932255542580517286"
     },
     "user_tz": 360
    },
    "id": "3ajWsEKWiEc5",
    "outputId": "42fc3be9-8044-49a3-cf81-c9cdf9839a1c"
   },
   "outputs": [
    {
     "data": {
      "image/png": "[encoded data removed]",
      "text/plain": [
       "<Figure size 504x360 with 1 Axes>"
      ]
     },
     "execution_count": 189,
     "metadata": {
      "tags": []
     },
     "output_type": "execute_result"
    }
   ],
   "source": [
    "results = RunMe(qc)\n",
    "plot_histogram(results.get_counts())"
   ]
  },
  {
   "cell_type": "markdown",
   "metadata": {
    "id": "u2Vh_ixQiEc5"
   },
   "source": [
    "### c.  Angle of a random gate"
   ]
  },
  {
   "cell_type": "markdown",
   "metadata": {
    "id": "37kmnszYiEc5"
   },
   "source": [
    "### d. Deferred Measurements"
   ]
  },
  {
   "cell_type": "code",
   "execution_count": null,
   "metadata": {
    "id": "5xiLNS9fiEc5",
    "outputId": "262dfc7c-a924-466a-d033-2f8f26426576"
   },
   "outputs": [
    {
     "data": {
      "image/png": "[encoded data removed]",
      "text/plain": [
       "<Figure size 628.397x144.48 with 1 Axes>"
      ]
     },
     "execution_count": 5,
     "metadata": {
      "image/png": {
       "height": 123,
       "width": 488
      },
      "tags": []
     },
     "output_type": "execute_result"
    }
   ],
   "source": [
    "qr=QuantumRegister(1)\n",
    "cr=ClassicalRegister(1)\n",
    "qc=QuantumCircuit(qr,cr)\n",
    "qc.h(0)\n",
    "qc.rx(np.pi/2.,0)\n",
    "qc.rz(np.pi/3.,0)\n",
    "qc.rx(np.pi/5.,0)\n",
    "qc.measure(0,0)\n",
    "qc.h(0)\n",
    "qc.rz(np.pi/5.,0)\n",
    "qc.ry(np.pi/2.,0)\n",
    "qc.measure(0,0)\n",
    "qc.draw(output='mpl')"
   ]
  },
  {
   "cell_type": "code",
   "execution_count": null,
   "metadata": {
    "id": "9xF8zruJiEc5",
    "outputId": "d43c22bc-f670-4444-df51-d1ab45383ea2"
   },
   "outputs": [
    {
     "data": {
      "image/png": "[encoded data removed]",
      "text/plain": [
       "<Figure size 504x360 with 1 Axes>"
      ]
     },
     "execution_count": 6,
     "metadata": {
      "image/png": {
       "height": 306,
       "width": 452
      },
      "tags": []
     },
     "output_type": "execute_result"
    }
   ],
   "source": [
    "plot_histogram(RunMe(qc).get_counts())"
   ]
  },
  {
   "cell_type": "code",
   "execution_count": null,
   "metadata": {
    "id": "41P3vDwWiEc6"
   },
   "outputs": [],
   "source": [
    "qr=QuantumRegister(2)\n",
    "cr=ClassicalRegister(2)\n",
    "qc=QuantumCircuit(qr,cr)\n",
    "qc.measure([0,1],[0,1])\n",
    "\n",
    "qc.draw(output='mpl')"
   ]
  }
 ],
 "metadata": {
  "colab": {
   "collapsed_sections": [
    "7Ai6GQHMiEc2",
    "ZYNIqUxtiEc3",
    "sKZMR5jdiEc3",
    "zT94L9VliEc3",
    "MMuwl_QciEc3",
    "kMS2-O9BiEc4",
    "1NizIy8QiEc4",
    "WzdXUB6XiEc4",
    "O042pki3iEc4",
    "ZUs5tGJGiEc5",
    "S46PTQ6iiEc5",
    "6KgjAEK2iEc5",
    "iifNmUAYiEc5",
    "lGC33ZKgiEc5",
    "2DsNit4JiEc5",
    "-HIZQkFgiEc5",
    "ZHClyG0BiEc5",
    "u2Vh_ixQiEc5",
    "JXneR-7giEc5",
    "37kmnszYiEc5"
   ],
   "name": "QC1.ipynb",
   "provenance": []
  },
  "kernelspec": {
   "display_name": "Python 3",
   "language": "python",
   "name": "python3"
  },
  "language_info": {
   "codemirror_mode": {
    "name": "ipython",
    "version": 3
   },
   "file_extension": ".py",
   "mimetype": "text/x-python",
   "name": "python",
   "nbconvert_exporter": "python",
   "pygments_lexer": "ipython3",
   "version": "3.8.3"
  },
  "varInspector": {
   "cols": {
    "lenName": 16,
    "lenType": 16,
    "lenVar": 40
   },
   "kernels_config": {
    "python": {
     "delete_cmd_postfix": "",
     "delete_cmd_prefix": "del ",
     "library": "var_list.py",
     "varRefreshCmd": "print(var_dic_list())"
    },
    "r": {
     "delete_cmd_postfix": ") ",
     "delete_cmd_prefix": "rm(",
     "library": "var_list.r",
     "varRefreshCmd": "cat(var_dic_list()) "
    }
   },
   "types_to_exclude": [
    "module",
    "function",
    "builtin_function_or_method",
    "instance",
    "_Feature"
   ],
   "window_display": false
  }
 },
 "nbformat": 4,
 "nbformat_minor": 4
}
